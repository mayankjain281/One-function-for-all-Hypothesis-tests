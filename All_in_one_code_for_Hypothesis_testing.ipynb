{
  "cells": [
    {
      "cell_type": "markdown",
      "metadata": {
        "id": "view-in-github",
        "colab_type": "text"
      },
      "source": [
        "<a href=\"https://colab.research.google.com/github/mayankjain281/One-function-for-all-Hypothesis-tests/blob/main/All_in_one_code_for_Hypothesis_testing.ipynb\" target=\"_parent\"><img src=\"https://colab.research.google.com/assets/colab-badge.svg\" alt=\"Open In Colab\"/></a>"
      ]
    },
    {
      "cell_type": "markdown",
      "source": [
        "# One code for all Hypothesis testing"
      ],
      "metadata": {
        "id": "zYScG81IiFKh"
      },
      "id": "zYScG81IiFKh"
    },
    {
      "cell_type": "code",
      "source": [
        "import seaborn as sns\n",
        "df = sns.load_dataset('tips')\n",
        "df"
      ],
      "metadata": {
        "colab": {
          "base_uri": "https://localhost:8080/",
          "height": 423
        },
        "id": "RYfoBMcyhRxo",
        "outputId": "20d66b14-d383-40da-e192-0e09a21a38f1"
      },
      "id": "RYfoBMcyhRxo",
      "execution_count": null,
      "outputs": [
        {
          "output_type": "execute_result",
          "data": {
            "text/plain": [
              "     total_bill   tip     sex smoker   day    time  size\n",
              "0         16.99  1.01  Female     No   Sun  Dinner     2\n",
              "1         10.34  1.66    Male     No   Sun  Dinner     3\n",
              "2         21.01  3.50    Male     No   Sun  Dinner     3\n",
              "3         23.68  3.31    Male     No   Sun  Dinner     2\n",
              "4         24.59  3.61  Female     No   Sun  Dinner     4\n",
              "..          ...   ...     ...    ...   ...     ...   ...\n",
              "239       29.03  5.92    Male     No   Sat  Dinner     3\n",
              "240       27.18  2.00  Female    Yes   Sat  Dinner     2\n",
              "241       22.67  2.00    Male    Yes   Sat  Dinner     2\n",
              "242       17.82  1.75    Male     No   Sat  Dinner     2\n",
              "243       18.78  3.00  Female     No  Thur  Dinner     2\n",
              "\n",
              "[244 rows x 7 columns]"
            ],
            "text/html": [
              "\n",
              "  <div id=\"df-a885c669-de2f-4ceb-8553-4916078d3f06\">\n",
              "    <div class=\"colab-df-container\">\n",
              "      <div>\n",
              "<style scoped>\n",
              "    .dataframe tbody tr th:only-of-type {\n",
              "        vertical-align: middle;\n",
              "    }\n",
              "\n",
              "    .dataframe tbody tr th {\n",
              "        vertical-align: top;\n",
              "    }\n",
              "\n",
              "    .dataframe thead th {\n",
              "        text-align: right;\n",
              "    }\n",
              "</style>\n",
              "<table border=\"1\" class=\"dataframe\">\n",
              "  <thead>\n",
              "    <tr style=\"text-align: right;\">\n",
              "      <th></th>\n",
              "      <th>total_bill</th>\n",
              "      <th>tip</th>\n",
              "      <th>sex</th>\n",
              "      <th>smoker</th>\n",
              "      <th>day</th>\n",
              "      <th>time</th>\n",
              "      <th>size</th>\n",
              "    </tr>\n",
              "  </thead>\n",
              "  <tbody>\n",
              "    <tr>\n",
              "      <th>0</th>\n",
              "      <td>16.99</td>\n",
              "      <td>1.01</td>\n",
              "      <td>Female</td>\n",
              "      <td>No</td>\n",
              "      <td>Sun</td>\n",
              "      <td>Dinner</td>\n",
              "      <td>2</td>\n",
              "    </tr>\n",
              "    <tr>\n",
              "      <th>1</th>\n",
              "      <td>10.34</td>\n",
              "      <td>1.66</td>\n",
              "      <td>Male</td>\n",
              "      <td>No</td>\n",
              "      <td>Sun</td>\n",
              "      <td>Dinner</td>\n",
              "      <td>3</td>\n",
              "    </tr>\n",
              "    <tr>\n",
              "      <th>2</th>\n",
              "      <td>21.01</td>\n",
              "      <td>3.50</td>\n",
              "      <td>Male</td>\n",
              "      <td>No</td>\n",
              "      <td>Sun</td>\n",
              "      <td>Dinner</td>\n",
              "      <td>3</td>\n",
              "    </tr>\n",
              "    <tr>\n",
              "      <th>3</th>\n",
              "      <td>23.68</td>\n",
              "      <td>3.31</td>\n",
              "      <td>Male</td>\n",
              "      <td>No</td>\n",
              "      <td>Sun</td>\n",
              "      <td>Dinner</td>\n",
              "      <td>2</td>\n",
              "    </tr>\n",
              "    <tr>\n",
              "      <th>4</th>\n",
              "      <td>24.59</td>\n",
              "      <td>3.61</td>\n",
              "      <td>Female</td>\n",
              "      <td>No</td>\n",
              "      <td>Sun</td>\n",
              "      <td>Dinner</td>\n",
              "      <td>4</td>\n",
              "    </tr>\n",
              "    <tr>\n",
              "      <th>...</th>\n",
              "      <td>...</td>\n",
              "      <td>...</td>\n",
              "      <td>...</td>\n",
              "      <td>...</td>\n",
              "      <td>...</td>\n",
              "      <td>...</td>\n",
              "      <td>...</td>\n",
              "    </tr>\n",
              "    <tr>\n",
              "      <th>239</th>\n",
              "      <td>29.03</td>\n",
              "      <td>5.92</td>\n",
              "      <td>Male</td>\n",
              "      <td>No</td>\n",
              "      <td>Sat</td>\n",
              "      <td>Dinner</td>\n",
              "      <td>3</td>\n",
              "    </tr>\n",
              "    <tr>\n",
              "      <th>240</th>\n",
              "      <td>27.18</td>\n",
              "      <td>2.00</td>\n",
              "      <td>Female</td>\n",
              "      <td>Yes</td>\n",
              "      <td>Sat</td>\n",
              "      <td>Dinner</td>\n",
              "      <td>2</td>\n",
              "    </tr>\n",
              "    <tr>\n",
              "      <th>241</th>\n",
              "      <td>22.67</td>\n",
              "      <td>2.00</td>\n",
              "      <td>Male</td>\n",
              "      <td>Yes</td>\n",
              "      <td>Sat</td>\n",
              "      <td>Dinner</td>\n",
              "      <td>2</td>\n",
              "    </tr>\n",
              "    <tr>\n",
              "      <th>242</th>\n",
              "      <td>17.82</td>\n",
              "      <td>1.75</td>\n",
              "      <td>Male</td>\n",
              "      <td>No</td>\n",
              "      <td>Sat</td>\n",
              "      <td>Dinner</td>\n",
              "      <td>2</td>\n",
              "    </tr>\n",
              "    <tr>\n",
              "      <th>243</th>\n",
              "      <td>18.78</td>\n",
              "      <td>3.00</td>\n",
              "      <td>Female</td>\n",
              "      <td>No</td>\n",
              "      <td>Thur</td>\n",
              "      <td>Dinner</td>\n",
              "      <td>2</td>\n",
              "    </tr>\n",
              "  </tbody>\n",
              "</table>\n",
              "<p>244 rows × 7 columns</p>\n",
              "</div>\n",
              "      <button class=\"colab-df-convert\" onclick=\"convertToInteractive('df-a885c669-de2f-4ceb-8553-4916078d3f06')\"\n",
              "              title=\"Convert this dataframe to an interactive table.\"\n",
              "              style=\"display:none;\">\n",
              "        \n",
              "  <svg xmlns=\"http://www.w3.org/2000/svg\" height=\"24px\"viewBox=\"0 0 24 24\"\n",
              "       width=\"24px\">\n",
              "    <path d=\"M0 0h24v24H0V0z\" fill=\"none\"/>\n",
              "    <path d=\"M18.56 5.44l.94 2.06.94-2.06 2.06-.94-2.06-.94-.94-2.06-.94 2.06-2.06.94zm-11 1L8.5 8.5l.94-2.06 2.06-.94-2.06-.94L8.5 2.5l-.94 2.06-2.06.94zm10 10l.94 2.06.94-2.06 2.06-.94-2.06-.94-.94-2.06-.94 2.06-2.06.94z\"/><path d=\"M17.41 7.96l-1.37-1.37c-.4-.4-.92-.59-1.43-.59-.52 0-1.04.2-1.43.59L10.3 9.45l-7.72 7.72c-.78.78-.78 2.05 0 2.83L4 21.41c.39.39.9.59 1.41.59.51 0 1.02-.2 1.41-.59l7.78-7.78 2.81-2.81c.8-.78.8-2.07 0-2.86zM5.41 20L4 18.59l7.72-7.72 1.47 1.35L5.41 20z\"/>\n",
              "  </svg>\n",
              "      </button>\n",
              "      \n",
              "  <style>\n",
              "    .colab-df-container {\n",
              "      display:flex;\n",
              "      flex-wrap:wrap;\n",
              "      gap: 12px;\n",
              "    }\n",
              "\n",
              "    .colab-df-convert {\n",
              "      background-color: #E8F0FE;\n",
              "      border: none;\n",
              "      border-radius: 50%;\n",
              "      cursor: pointer;\n",
              "      display: none;\n",
              "      fill: #1967D2;\n",
              "      height: 32px;\n",
              "      padding: 0 0 0 0;\n",
              "      width: 32px;\n",
              "    }\n",
              "\n",
              "    .colab-df-convert:hover {\n",
              "      background-color: #E2EBFA;\n",
              "      box-shadow: 0px 1px 2px rgba(60, 64, 67, 0.3), 0px 1px 3px 1px rgba(60, 64, 67, 0.15);\n",
              "      fill: #174EA6;\n",
              "    }\n",
              "\n",
              "    [theme=dark] .colab-df-convert {\n",
              "      background-color: #3B4455;\n",
              "      fill: #D2E3FC;\n",
              "    }\n",
              "\n",
              "    [theme=dark] .colab-df-convert:hover {\n",
              "      background-color: #434B5C;\n",
              "      box-shadow: 0px 1px 3px 1px rgba(0, 0, 0, 0.15);\n",
              "      filter: drop-shadow(0px 1px 2px rgba(0, 0, 0, 0.3));\n",
              "      fill: #FFFFFF;\n",
              "    }\n",
              "  </style>\n",
              "\n",
              "      <script>\n",
              "        const buttonEl =\n",
              "          document.querySelector('#df-a885c669-de2f-4ceb-8553-4916078d3f06 button.colab-df-convert');\n",
              "        buttonEl.style.display =\n",
              "          google.colab.kernel.accessAllowed ? 'block' : 'none';\n",
              "\n",
              "        async function convertToInteractive(key) {\n",
              "          const element = document.querySelector('#df-a885c669-de2f-4ceb-8553-4916078d3f06');\n",
              "          const dataTable =\n",
              "            await google.colab.kernel.invokeFunction('convertToInteractive',\n",
              "                                                     [key], {});\n",
              "          if (!dataTable) return;\n",
              "\n",
              "          const docLinkHtml = 'Like what you see? Visit the ' +\n",
              "            '<a target=\"_blank\" href=https://colab.research.google.com/notebooks/data_table.ipynb>data table notebook</a>'\n",
              "            + ' to learn more about interactive tables.';\n",
              "          element.innerHTML = '';\n",
              "          dataTable['output_type'] = 'display_data';\n",
              "          await google.colab.output.renderOutput(dataTable, element);\n",
              "          const docLink = document.createElement('div');\n",
              "          docLink.innerHTML = docLinkHtml;\n",
              "          element.appendChild(docLink);\n",
              "        }\n",
              "      </script>\n",
              "    </div>\n",
              "  </div>\n",
              "  "
            ]
          },
          "metadata": {},
          "execution_count": 59
        }
      ]
    },
    {
      "cell_type": "code",
      "source": [
        "def Hypothesis_testing(Samples,alpha,alternative,mu,crosstab,correlation):\n",
        "  try:\n",
        "    if correlation==True:\n",
        "      import matplotlib.pyplot as plt \n",
        "      import seaborn as sns\n",
        "      import warnings\n",
        "      warnings.filterwarnings('ignore')\n",
        "      reg=sns.jointplot(*Samples,kind='reg')\n",
        "      reg.fig.subplots_adjust(top=.9)\n",
        "      reg.fig.suptitle('check outlier and distribution then regression')\n",
        "      plt.show()\n",
        "      print()\n",
        "      from scipy.stats import pearsonr, spearmanr # numeric vs numeric\n",
        "      print('Pearsonr test for linear relationship between variables')\n",
        "      H0 = 'No liner correlation'\n",
        "      print('null hypothesis: ',H0)\n",
        "      corr_stat, p_val = pearsonr(*Samples)\n",
        "      print(\"corr_stat is: \", corr_stat)\n",
        "      print(\"p-value is: \", p_val)\n",
        "      if p_val <= alpha:  \n",
        "          print('We can reject the null hypothesis')  \n",
        "          if corr_stat>0:\n",
        "            print('positive correlation (corr_stat>0)')\n",
        "          else:\n",
        "            print('negative correlation (corr_stat<0)')\n",
        "          if corr_stat>0.07:\n",
        "            print('strong correlation (corr_stat>0.07)')\n",
        "          else:\n",
        "            print('weak correlations (corr_stat<0.07)')\n",
        "      else:  \n",
        "          print('We can accept the null hypothesis')\n",
        "      print()\n",
        "      print('Spearmanr test for monotonic relationship between variables')\n",
        "      H0 = 'No rank-based correlation'\n",
        "      print('null hypothesis: ',H0)\n",
        "      corr_stat, p_val = spearmanr(*Samples)\n",
        "      print(\"corr_stat is: \", corr_stat)\n",
        "      print(\"p-value is: \", p_val)\n",
        "      if p_val <= alpha:  \n",
        "          print('We can reject the null hypothesis')  \n",
        "          if corr_stat>0:\n",
        "            print('positive correlation (corr_stat>0)')\n",
        "          else:\n",
        "            print('negative correlation (corr_stat<0)')\n",
        "          if corr_stat>0.07:\n",
        "            print('strong correlation (corr_stat>0.07)')\n",
        "          else:\n",
        "            print('weak correlation (corr_stat<0.07)')\n",
        "      else:  \n",
        "          print('We can accept the null hypothesis')\n",
        "    \n",
        "    else:\n",
        "      if alternative=='two-sided':\n",
        "        H0 = 'means are equal'       \n",
        "      elif alternative== 'less':\n",
        "          H0 = 'Sample1>=Sample2'\n",
        "      elif alternative=='greater':\n",
        "        H0 = 'Sample1<=Sample2'\n",
        "      else:\n",
        "        print('Check the alternative input')\n",
        "        exit()\n",
        "      H0_chi_stat = 'observed counts are same as expected, proportions are similar'\n",
        "      H0_chi2_contingency = 'variables are independet, liklihoods are similar'\n",
        "      if not all(Samples):\n",
        "        print('Check Samples detail input')\n",
        "        exit()\n",
        "\n",
        "      if type(Samples[0][0])==list:\n",
        "        if sum(Samples[0][0])-sum(Samples[0][1])<0.001:\n",
        "          print('Chi square test for goodness of fit [[observed],[expected]]')\n",
        "          print('null hypothesis: ',H0_chi_stat)\n",
        "          from scipy.stats import chisquare  \n",
        "          test, p_val = chisquare(*Sample1)  \n",
        "          print(\"p-value is: \" + str(p_val)) \n",
        "          if p_val <= alpha:  \n",
        "              print('We can reject the null hypothesis')  \n",
        "          else:  \n",
        "              print('We can accept the null hypothesis')\n",
        "            \n",
        "        else:\n",
        "          print('Chi square test for indepedence (crosstab contingency)')\n",
        "          print('null hypothesis: ',H0_chi2_contingency)\n",
        "          from scipy.stats import chi2_contingency  \n",
        "          test, p_val, dof, expected_val = chi2_contingency(Samples)  \n",
        "          print(\"p-value is: \" + str(p_val))\n",
        "          if p_val <= alpha:  \n",
        "              print('We can reject the null hypothesis')  \n",
        "          else:  \n",
        "              print('We can accept the null hypothesis')\n",
        "\n",
        "        \n",
        "      elif len(Samples)>2:\n",
        "        print(len(Samples), 'Sample','Anova f test')\n",
        "        print('null hypothesis: ',H0)\n",
        "        from scipy.stats import f_oneway  \n",
        "        f_test, p_val = f_oneway(*Samples)  \n",
        "        print(\"p-value is: \" + str(p_val))\n",
        "        if p_val < alpha:      \n",
        "            print(\"We can reject the null hypothesis\")  \n",
        "        else:  \n",
        "            print(\"We can accept the null hypothesis\")  \n",
        "        \n",
        "      elif len(Samples)>1:\n",
        "        from scipy.stats import levene \n",
        "        statistic, p_val = levene(*Samples)\n",
        "        if p_val <0.05:\n",
        "          print(len(Samples), 'Sample',\"Welch's t-test for unequal variances\")\n",
        "          print('null hypothesis: ',H0)\n",
        "          from scipy.stats import ttest_ind \n",
        "          t_test,p_val = ttest_ind(*Samples,equal_var = False, alternative=alternative)\n",
        "          print(\"p-value is: \", p_val)\n",
        "          if p_val < alpha:      \n",
        "              print(\"We can reject the null hypothesis\")  \n",
        "          else:  \n",
        "              print(\"We can accept the null hypothesis\") \n",
        "        \n",
        "        else:\n",
        "          print(len(Samples), 'Sample','Independent t-test')\n",
        "          print('null hypothesis: ',H0)\n",
        "          from scipy.stats import ttest_ind \n",
        "          t_test,p_val = ttest_ind(*Samples, alternative=alternative)\n",
        "          print(\"p-value is: \", p_val)\n",
        "          if p_val < alpha:      \n",
        "              print(\"We can reject the null hypothesis\")  \n",
        "          else:  \n",
        "              print(\"We can accept the null hypothesis\") \n",
        "\n",
        "        if len(Samples[0])==len(Samples[1]):\n",
        "          print(len(Samples), 'Sample','Paried t-test')\n",
        "          print('null hypothesis: ',H0)\n",
        "          from scipy.stats import ttest_rel\n",
        "          t_test, p_val = ttest_rel(*Samples, alternative=alternative)  \n",
        "          print(\"p-value is: \", p_val)\n",
        "          if p_val < 0.05:  \n",
        "              print(\"We can reject the null hypothesis\")  \n",
        "          else:  \n",
        "              print(\"We can accept the null hypothesis\") \n",
        "        \n",
        "      elif len(Samples)==1:\n",
        "        print(len(Samples), 'Sample','t test')\n",
        "        print('null hypothesis: ',H0)\n",
        "        from scipy.stats import ttest_1samp\t\t\t\n",
        "        t_stat, p_val = ttest_1samp(Samples[0],mu, alternative=alternative)\t\n",
        "        print(\"p-value is: \", p_val)\n",
        "        if p_val < 0.05:      \n",
        "            print(\" We can reject the null hypothesis\")  \n",
        "        else:  \n",
        "            print(\"We can accept the null hypothesis\") \n",
        "        print()\n",
        "        print('mean of population:',[round(mu,2)])\n",
        "\n",
        "      print()\n",
        "\n",
        "      # Visual analysis\n",
        "      import matplotlib.pyplot as plt\n",
        "      import seaborn as sns\n",
        "      import pandas as pd\n",
        "      if type(crosstab)==pd.core.frame.DataFrame:\n",
        "        crosstab.plot(kind=\"bar\",figsize=(8,5))\n",
        "        print(crosstab)\n",
        "      elif type(Samples[0][0])==list:\n",
        "        import numpy as np\n",
        "        plt.figure(figsize=(8,5))\n",
        "        barWidth = 0.25\n",
        "        br1 = np.arange(len(Samples[0][0]))\n",
        "        br2 = [x + barWidth for x in br1]\n",
        "        plt.bar(br1, Samples[0][0], color ='r', width = barWidth, label ='observed')\n",
        "        plt.bar(br2, Samples[0][1], color ='g', width = barWidth, label ='expected')\n",
        "        plt.legend()\n",
        "        plt.show()\n",
        "\n",
        "      else:\n",
        "        import numpy as np\n",
        "        print(f'mean of Samples:',[np.mean(Samples[i]).round(2) for i in range(len(Samples))])\n",
        "        print(f'variance of Samples:',[np.var(Samples[i]).round(2) for i in range(len(Samples))])\n",
        "        print()\n",
        "        import numpy as np\n",
        "        for i in range (len(Samples)): \n",
        "          sns.kdeplot(Samples[i],fill=True,label=f'Sample{i}')\n",
        "        plt.legend()\n",
        "        plt.title('check distribution')\n",
        "        plt.show()\n",
        "        \n",
        "        labels = [('Sample'+str(i+1)) for i in range (len(Samples))]\n",
        "        plt.boxplot(Samples, vert=False, patch_artist=True,labels=labels) \n",
        "        plt.title('check outliers')\n",
        "        plt.show()\n",
        "\n",
        "      print()\n",
        "      if len(Samples)>1:\n",
        "        # Assumption 1: Normality of distribution\n",
        "        ass=''\n",
        "        if len(max(Samples,key=len))<50:\n",
        "          from scipy.stats import shapiro\n",
        "          for Sample in (Samples):\n",
        "            sh, p_val = shapiro(Sample)\n",
        "            print('Shapiro test for normality, p_val=',p_val)\n",
        "            if p_val <0.05:\n",
        "              ass='Samples are not normally distributed, preform non parametric test.'\n",
        "              print(ass)\n",
        "              break\n",
        "        else:\n",
        "          from scipy.stats import kstest\n",
        "          for Sample in (Samples):\n",
        "            ks, p_val = kstest(Sample, \"norm\")\n",
        "            print('KS test for normality, p_val=',p_val)\n",
        "            if p_val <0.05:\n",
        "              ass='Samples are not normally distributed, preform non parametric test.'\n",
        "              print(ass)\n",
        "              #'If possible- remove outliers or use log transpose, use clt\n",
        "              break\n",
        "        # Assumption 2: Homogeneity of Variance\n",
        "        from scipy.stats import levene \n",
        "        statistic, p_val = levene(*Samples)\n",
        "        print('Levene test for homogeneity, p_val=',p_val)\n",
        "        if p_val <0.05:\n",
        "          ass='Samples have unequal variance, preform non parametric test.'\n",
        "          print(ass)\n",
        "        import numpy as np\n",
        "        min = np.min([(np.var(Sample)) for Sample in (Samples)])\n",
        "        ratio = (([round(np.var(Sample)/min) for Sample in (Samples)]))\n",
        "        print('Ratio of variance :' , ratio,', not much difference in variances.' if not any(map(lambda x: x > 4, ratio)) else ', high difference in variances.','\\n')\n",
        "\n",
        "      # Non Parametric tests\n",
        "      if ((type(Samples[0][0])!=list)&(len(Samples)>1)):\n",
        "        if ass:\n",
        "          if len(Samples)>2:\n",
        "            print(len(Samples), 'Sample','Kruskal-Wallis test')\n",
        "            print('null hypothesis: ',H0)\n",
        "            from scipy.stats import kruskal  \n",
        "            f_test, p_val = kruskal(*Samples)  \n",
        "            print(\"p-value is: \" + str(p_val))\n",
        "            if p_val < alpha:      \n",
        "                print(\"We can reject the null hypothesis\")  \n",
        "            else:  \n",
        "                print(\"We can accept the null hypothesis\")\n",
        "          \n",
        "          elif len(Samples)>1:\n",
        "            print(len(Samples), 'Sample','Mann-Whitney U test')\n",
        "            print('null hypothesis: ',H0)\n",
        "            from scipy.stats import mannwhitneyu \n",
        "            t_test,p_val = mannwhitneyu(*Samples, alternative=alternative)\n",
        "            print(\"p-value is: \", p_val)\n",
        "            if p_val < alpha:      \n",
        "                print(\"We can reject the null hypothesis\")  \n",
        "            else:  \n",
        "                print(\"We can accept the null hypothesis\") \n",
        "\n",
        "          if len(Samples[0])==len(Samples[1]):\n",
        "            print(len(Samples), 'Sample','Wilcoxon Signed-Rank test')\n",
        "            print('null hypothesis: ',H0)\n",
        "            from scipy.stats import wilcoxon\n",
        "            t_test, p_val = wilcoxon(*Samples, alternative=alternative)  \n",
        "            print(\"p-value is: \", p_val)\n",
        "            if p_val < 0.05:  \n",
        "                print(\"We can reject the null hypothesis\")  \n",
        "            else:  \n",
        "                print(\"We can accept the null hypothesis\") \n",
        "        else:\n",
        "          print('Samples are normally distributed, we can accept parametric test result.')\n",
        "  except ValueError as e:\n",
        "    print('ValueError:', e,'\\n','* correct the input and perform the test again')"
      ],
      "metadata": {
        "id": "Mg1I00mxiSJI"
      },
      "id": "Mg1I00mxiSJI",
      "execution_count": null,
      "outputs": []
    },
    {
      "cell_type": "code",
      "source": [
        "crosstab=None\n",
        "Sample1=df[df['sex']=='Male']['tip'].tolist()\n",
        "Samples=[Sample1]\n",
        "correlation=False\n",
        "mu = df['tip'].mean()      # Population mean\n",
        "alpha = 0.05 \n",
        "alternative = 'two-sided'  # 'less' , 'greater'\n",
        "Hypothesis_testing(Samples,alpha,alternative,mu,crosstab,correlation)"
      ],
      "metadata": {
        "colab": {
          "base_uri": "https://localhost:8080/",
          "height": 744
        },
        "id": "8lXeq0oYNzz4",
        "outputId": "9bbbc7e1-1302-4602-d78c-04c54afe426c"
      },
      "id": "8lXeq0oYNzz4",
      "execution_count": null,
      "outputs": [
        {
          "output_type": "stream",
          "name": "stdout",
          "text": [
            "1 Sample t test\n",
            "null hypothesis:  means are equal\n",
            "p-value is:  0.44331167428061835\n",
            "We can accept the null hypothesis\n",
            "\n",
            "mean of population: [3.0]\n",
            "\n",
            "mean of Samples: [3.09]\n",
            "variance of Samples: [2.2]\n",
            "\n"
          ]
        },
        {
          "output_type": "display_data",
          "data": {
            "text/plain": [
              "<Figure size 432x288 with 1 Axes>"
            ],
            "image/png": "[encoded data removed]"
          },
          "metadata": {
            "needs_background": "light"
          }
        },
        {
          "output_type": "display_data",
          "data": {
            "text/plain": [
              "<Figure size 432x288 with 1 Axes>"
            ],
            "image/png": "[encoded data removed]"
          },
          "metadata": {
            "needs_background": "light"
          }
        },
        {
          "output_type": "stream",
          "name": "stdout",
          "text": [
            "\n"
          ]
        }
      ]
    },
    {
      "cell_type": "code",
      "source": [
        "crosstab=None\n",
        "Sample1=df[df['sex']=='Male']['tip'].tolist()\n",
        "Sample2=df[df['sex']=='Female']['tip'].tolist()\n",
        "Samples=[Sample1,Sample2]\n",
        "correlation=False\n",
        "mu = None\n",
        "alpha = 0.05 \n",
        "alternative = 'two-sided'  # 'less' , 'greater'\n",
        "Hypothesis_testing(Samples,alpha,alternative,mu,crosstab,correlation)"
      ],
      "metadata": {
        "colab": {
          "base_uri": "https://localhost:8080/",
          "height": 871
        },
        "id": "wRtiZfLKjGJv",
        "outputId": "6d12653e-c01d-4b3a-e69e-719490bd4036"
      },
      "id": "wRtiZfLKjGJv",
      "execution_count": null,
      "outputs": [
        {
          "output_type": "stream",
          "name": "stdout",
          "text": [
            "2 Sample Independent t-test\n",
            "null hypothesis:  means are equal\n",
            "p-value is:  0.16645623503456755\n",
            "We can accept the null hypothesis\n",
            "\n",
            "mean of Samples: [3.09, 2.83]\n",
            "variance of Samples: [2.2, 1.33]\n",
            "\n"
          ]
        },
        {
          "output_type": "display_data",
          "data": {
            "text/plain": [
              "<Figure size 432x288 with 1 Axes>"
            ],
            "image/png": "[encoded data removed]"
          },
          "metadata": {
            "needs_background": "light"
          }
        },
        {
          "output_type": "display_data",
          "data": {
            "text/plain": [
              "<Figure size 432x288 with 1 Axes>"
            ],
            "image/png": "[encoded data removed]"
          },
          "metadata": {
            "needs_background": "light"
          }
        },
        {
          "output_type": "stream",
          "name": "stdout",
          "text": [
            "\n",
            "KS test for normality, p_val= 6.496311279509085e-153\n",
            "Samples are not normally distributed, preform non parametric test.\n",
            "Levene test for homogeneity, p_val= 0.1595236359896614\n",
            "Ratio of variance : [2, 1] , not much difference in variances. \n",
            "\n",
            "2 Sample Mann-Whitney U test\n",
            "null hypothesis:  means are equal\n",
            "p-value is:  0.38335449359363927\n",
            "We can accept the null hypothesis\n"
          ]
        }
      ]
    },
    {
      "cell_type": "code",
      "source": [
        "crosstab = None\n",
        "Sample1=df[df['day']=='Thur']['tip'].tolist()\n",
        "Sample2=df[df['day']=='Fri']['tip'].tolist()\n",
        "Sample3=df[df['day']=='Sat']['tip'].tolist()\n",
        "Sample4=df[df['day']=='Sun']['tip'].tolist()\n",
        "Samples=[Sample1,Sample2,Sample3,Sample4]\n",
        "correlation=False\n",
        "mu = None\n",
        "alpha = 0.05 \n",
        "alternative = 'two-sided'  # 'less' , 'greater'\n",
        "Hypothesis_testing(Samples,alpha,alternative,mu,crosstab,correlation)"
      ],
      "metadata": {
        "colab": {
          "base_uri": "https://localhost:8080/",
          "height": 871
        },
        "id": "s8OI7Wu9LcMa",
        "outputId": "9e69ec75-329b-4c5a-c5c2-9edffc024707"
      },
      "id": "s8OI7Wu9LcMa",
      "execution_count": null,
      "outputs": [
        {
          "output_type": "stream",
          "name": "stdout",
          "text": [
            "4 Sample Anova f test\n",
            "null hypothesis:  means are equal\n",
            "p-value is: 0.1735885553040592\n",
            "We can accept the null hypothesis\n",
            "\n",
            "mean of Samples: [2.77, 2.73, 2.99, 3.26]\n",
            "variance of Samples: [1.51, 0.98, 2.63, 1.5]\n",
            "\n"
          ]
        },
        {
          "output_type": "display_data",
          "data": {
            "text/plain": [
              "<Figure size 432x288 with 1 Axes>"
            ],
            "image/png": "[encoded data removed]"
          },
          "metadata": {
            "needs_background": "light"
          }
        },
        {
          "output_type": "display_data",
          "data": {
            "text/plain": [
              "<Figure size 432x288 with 1 Axes>"
            ],
            "image/png": "[encoded data removed]"
          },
          "metadata": {
            "needs_background": "light"
          }
        },
        {
          "output_type": "stream",
          "name": "stdout",
          "text": [
            "\n",
            "KS test for normality, p_val= 1.3050781119266361e-61\n",
            "Samples are not normally distributed, preform non parametric test.\n",
            "Levene test for homogeneity, p_val= 0.6472822314837223\n",
            "Ratio of variance : [2, 1, 3, 2] , not much difference in variances. \n",
            "\n",
            "4 Sample Kruskal-Wallis test\n",
            "null hypothesis:  means are equal\n",
            "p-value is: 0.03566056019447427\n",
            "We can reject the null hypothesis\n"
          ]
        }
      ]
    },
    {
      "cell_type": "code",
      "source": [
        "import pandas as pd\n",
        "crosstab = pd.crosstab(index=df['day'], columns=df['sex'])   # Sample1 = crosstab.values.tolsit()\n",
        "Sample1=crosstab.values.tolist()\n",
        "Samples=[Sample1]\n",
        "correlation=False\n",
        "mu = None\n",
        "alpha = 0.05 \n",
        "alternative = 'two-sided'  # 'less' , 'greater'\n",
        "Hypothesis_testing(Samples,alpha,alternative,mu,crosstab,correlation)"
      ],
      "metadata": {
        "id": "IArGdi4qMlVG",
        "colab": {
          "base_uri": "https://localhost:8080/",
          "height": 564
        },
        "outputId": "46506bba-f38f-4d63-bd55-2bb728f9b236"
      },
      "id": "IArGdi4qMlVG",
      "execution_count": null,
      "outputs": [
        {
          "output_type": "stream",
          "name": "stdout",
          "text": [
            "Chi square test for indepedence (crosstab contingency)\n",
            "null hypothesis:  variables are independet, liklihoods are similar\n",
            "p-value is: 0.004180302092822261\n",
            "We can reject the null hypothesis\n",
            "\n",
            "sex   Male  Female\n",
            "day               \n",
            "Thur    30      32\n",
            "Fri     10       9\n",
            "Sat     59      28\n",
            "Sun     58      18\n",
            "\n"
          ]
        },
        {
          "output_type": "display_data",
          "data": {
            "text/plain": [
              "<Figure size 576x360 with 1 Axes>"
            ],
            "image/png": "[encoded data removed]"
          },
          "metadata": {
            "needs_background": "light"
          }
        }
      ]
    },
    {
      "cell_type": "code",
      "source": [
        "import pandas as pd\n",
        "crosstab = None\n",
        "Sample1=[[8, 6, 10, 7, 8, 11, 9],[9, 8, 11, 8, 10, 7, 6]]         # [[observed],[expected]]\n",
        "Samples=[Sample1]\n",
        "correlation=False\n",
        "mu = None\n",
        "alpha = 0.05 \n",
        "alternative = 'two-sided'  # 'less' , 'greater'\n",
        "Hypothesis_testing(Samples,alpha,alternative,mu,crosstab,correlation)"
      ],
      "metadata": {
        "colab": {
          "base_uri": "https://localhost:8080/",
          "height": 429
        },
        "id": "0TBfMbWQlbK3",
        "outputId": "b13ccf26-2b8d-488b-99c3-7e75c799d776"
      },
      "id": "0TBfMbWQlbK3",
      "execution_count": null,
      "outputs": [
        {
          "output_type": "stream",
          "name": "stdout",
          "text": [
            "Chi square test for goodness of fit [[observed],[expected]]\n",
            "null hypothesis:  observed counts are same as expected, proportions are similar\n",
            "p-value is: 0.542180861413329\n",
            "We can accept the null hypothesis\n",
            "\n"
          ]
        },
        {
          "output_type": "display_data",
          "data": {
            "text/plain": [
              "<Figure size 576x360 with 1 Axes>"
            ],
            "image/png": "[encoded data removed]"
          },
          "metadata": {
            "needs_background": "light"
          }
        },
        {
          "output_type": "stream",
          "name": "stdout",
          "text": [
            "\n"
          ]
        }
      ]
    },
    {
      "cell_type": "code",
      "source": [
        "crosstab = None\n",
        "Sample1=df['total_bill'].to_list()\n",
        "Sample2=df['tip'].to_list()\n",
        "Samples=[Sample1, Sample2]         # [Sample1, Sample2] \n",
        "correlation=True\n",
        "mu = None\n",
        "alpha = 0.05 \n",
        "alternative = 'two-sided'  # 'less' , 'greater'\n",
        "Hypothesis_testing(Samples,alpha,alternative,mu,crosstab,correlation)"
      ],
      "metadata": {
        "colab": {
          "base_uri": "https://localhost:8080/",
          "height": 733
        },
        "id": "pQjn7XCqmR_u",
        "outputId": "6a42bf72-fff3-48ba-cd15-1920dbbc04ef"
      },
      "id": "pQjn7XCqmR_u",
      "execution_count": null,
      "outputs": [
        {
          "output_type": "display_data",
          "data": {
            "text/plain": [
              "<Figure size 432x432 with 3 Axes>"
            ],
            "image/png": "[encoded data removed]"
          },
          "metadata": {
            "needs_background": "light"
          }
        },
        {
          "output_type": "stream",
          "name": "stdout",
          "text": [
            "\n",
            "Pearsonr test for linear relationship between variables\n",
            "null hypothesis:  No liner correlation\n",
            "corr_stat is:  0.6757341092113647\n",
            "p-value is:  6.69247064686336e-34\n",
            "We can reject the null hypothesis\n",
            "positive correlation (corr_stat>0)\n",
            "strong correlation (corr_stat>0.07)\n",
            "\n",
            "Spearmanr test for monotonic relationship between variables\n",
            "null hypothesis:  No rank-based correlation\n",
            "corr_stat is:  0.6789681219001009\n",
            "p-value is:  2.501158440923619e-34\n",
            "We can reject the null hypothesis\n",
            "positive correlation (corr_stat>0)\n",
            "strong correlation (corr_stat>0.07)\n"
          ]
        }
      ]
    },
    {
      "cell_type": "markdown",
      "source": [
        "# One code for all Hypothesis testing Modules"
      ],
      "metadata": {
        "id": "oBJ9Zm2gZ7-y"
      },
      "id": "oBJ9Zm2gZ7-y"
    },
    {
      "cell_type": "code",
      "execution_count": null,
      "id": "1f36a583",
      "metadata": {
        "id": "1f36a583"
      },
      "outputs": [],
      "source": [
        "import numpy as np\n",
        "import pandas as pd\n",
        "import seaborn as sns\n",
        "import matplotlib.pyplot as plt\n",
        "\n",
        "from scipy.stats import norm, chi2, f # distributions\n",
        "\n",
        "from scipy.stats import ttest_ind, ttest_rel, f_oneway, kruskal # numerical vs categorical\n",
        "from scipy.stats import chisquare, chi2_contingency # categorical features\n",
        "from scipy.stats import pearsonr, spearmanr # numeric vs numeric\n",
        "\n",
        "from scipy.stats import kstest # cdf\n",
        "\n",
        "from statsmodels.distributions.empirical_distribution import ECDF\n",
        "# Empirical CDF"
      ]
    },
    {
      "cell_type": "code",
      "source": [
        "Mu = 0\n",
        "Sigma = 18\n",
        "\n",
        "Sample1 = [12, 18, 12, 13, 15, 1, 7, 20, 21, 25, 19, 31, 21, 17, 17, 15, 19, 15, 12, 15] \n",
        "Sample2 = [23, 22, 24, 25, 21, 26, 21, 21, 25, 30, 24, 21, 23, 19, 14, 18, 14, 12, 19, 15] \n",
        "Sample3 = [0.0864, 0.2522, 0.0894, 0.2724, 0.0853, 0.1367, 0.853]\n",
        "\n",
        "\n",
        "Samples = [Sample1, Sample2]\n",
        "\n",
        "alpha = 0.05 \n",
        "alternative = 'two-sided'  # 'less' , 'greater'\n",
        "\n",
        "H0 = 'means are equal'       # Sample1>=Sample2    # Sample1<=Sample2\n",
        "Ha = 'means are not equal'   # Sample1<Sample2     # Sample1>Sample2\n",
        "H0_chi_stat = 'obs and exp values are same'\n",
        "#H0(chi_stat) = 'proportions are similar'\n",
        "H0_chi2_contingency = 'variables are independet'\n",
        "#H0(chi2_contingency) = 'liklihoods are similar'\n",
        "\n",
        "\n",
        "if not all(Samples):\n",
        "  print('Check Samples detail?')\n",
        "  exit()\n",
        "\n",
        "if type(Sample1[0])==list:\n",
        "  \n",
        "  if sum(Sample1[0])-sum(Sample1[1])<1:\n",
        "    print('Chi square test for goodness of fit (obs,exp)')\n",
        "    from scipy.stats import chisquare  \n",
        "    test, p_val = chisquare(*Sample1)  \n",
        "    print(\"p-value is: \" + str(p_val)) \n",
        "    if p_val <= alpha:  \n",
        "        print('We can reject the null hypothesis')  \n",
        "    else:  \n",
        "        print('We can accept the null hypothesis') \n",
        "      \n",
        "  else:\n",
        "    print('Chi square test for indepedence (contingency)')\n",
        "    from scipy.stats import chi2_contingency  \n",
        "    test, p_val, dof, expected_val = chi2_contingency(Sample1)  \n",
        "    print(\"p-value is: \" + str(p_val)) \n",
        "    if p_val <= alpha:  \n",
        "        print('We can reject the null hypothesis')  \n",
        "    else:  \n",
        "        print('We can accept the null hypothesis') \n",
        "  \n",
        "elif len(Samples)>2:\n",
        "  print(len(Samples), 'Sample','Anova f test')\n",
        "  from scipy.stats import f_oneway  \n",
        "  f_test, p_val = f_oneway(*Samples)  \n",
        "  print(\"p-value is: \" + str(p_val))\n",
        "  if p_val < alpha:      \n",
        "      print(\"We can reject the null hypothesis\")  \n",
        "  else:  \n",
        "      print(\"We can accept the null hypothesis\")  \n",
        "  \n",
        "elif len(Samples)>0.001:\n",
        "  print(len(Samples), 'Sample','t-test')\n",
        "  from scipy.stats import ttest_ind \n",
        "  t_test,p_val = ttest_ind(*Samples)\n",
        "  print(\"p-value of independent t-test is: \", p_val)\n",
        "  if p_val < alpha:      \n",
        "      print(\"We can reject the null hypothesis\")  \n",
        "  else:  \n",
        "      print(\"We can accept the null hypothesis\") \n",
        "  from scipy.stats import ttest_rel\n",
        "  t_test, p_val = ttest_rel(*Samples, alternative=alternative)  \n",
        "  print(\"p-value of the paried t-test is: \", p_val)\n",
        "  # taking the threshold value as 0.05 or 5%  \n",
        "  if p_val < 0.05:  \n",
        "      print(\"We can reject the null hypothesis\")  \n",
        "  else:  \n",
        "      print(\"We can accept the null hypothesis\") \n",
        "    \n",
        "  \n",
        "elif len(Samples)==1:\n",
        "  print('t test')\n",
        "  from scipy.stats import ttest_1samp\t\t\t\n",
        "  t_stat, p_val = ttest_1samp(Sample1, Sigma, alternative=alternative)\t\n",
        "  print(\"P-value is: \", p_val)  \n",
        "  if p_val < 0.05:      \n",
        "      print(\" We can reject the null hypothesis\")  \n",
        "  else:  \n",
        "      print(\"We can accept the null hypothesis\") \n",
        "      \n",
        "import matplotlib.pyplot as plt\n",
        "import seaborn as sns\n",
        "if type(Sample1[0])==list:\n",
        "  for samp in (Sample1): \n",
        "    sns.kdeplot(samp,fill=True)\n",
        "  plt.show()\n",
        "else:\n",
        "  for samp in (Samples): \n",
        "    sns.kdeplot(samp,fill=True)\n",
        "  plt.show()"
      ],
      "metadata": {
        "id": "Er_DVihQISBJ",
        "colab": {
          "base_uri": "https://localhost:8080/",
          "height": 355
        },
        "outputId": "3603b904-cdb0-41d0-a4b3-314cd0997c38"
      },
      "id": "Er_DVihQISBJ",
      "execution_count": null,
      "outputs": [
        {
          "output_type": "stream",
          "name": "stdout",
          "text": [
            "2 Sample t-test\n",
            "p-value of independent t-test is:  0.012117171124028792\n",
            "We can reject the null hypothesis\n",
            "p-value of the paried t-test is:  0.015402614294268206\n",
            "We can reject the null hypothesis\n"
          ]
        },
        {
          "output_type": "display_data",
          "data": {
            "text/plain": [
              "<Figure size 432x288 with 1 Axes>"
            ],
            "image/png": "[encoded data removed]"
          },
          "metadata": {
            "needs_background": "light"
          }
        }
      ]
    },
    {
      "cell_type": "markdown",
      "source": [
        "Reference:\n",
        "\n",
        "https://www.javatpoint.com/hypothesis-testing-python\n",
        "\n",
        "https://www.youtube.com/watch?v=YrhlQB3mQFI&ab_channel=KrishNaik\n",
        "\n",
        "https://www.geeksforgeeks.org/bar-plot-in-matplotlib/\n",
        "\n",
        "fund_05_hypothesis_correlation-checkpoint   (scaler notes)"
      ],
      "metadata": {
        "id": "QQa1btFNe4cv"
      },
      "id": "QQa1btFNe4cv"
    },
    {
      "cell_type": "markdown",
      "id": "901a2b11",
      "metadata": {
        "heading_collapsed": true,
        "id": "901a2b11"
      },
      "source": [
        "# Coin example (Chi)"
      ]
    },
    {
      "cell_type": "code",
      "source": [
        "# alfa and p_value are area of probabity density (total p=1)\n",
        "# cr_val and stat_value are values on x axis\n",
        "https://people.richland.edu/james/lecture/m170/tbl-chi.html\n",
        "https://www.geogebra.org/m/smhy8cxz\n",
        "# to rejec H0 in chi test\n",
        "# chi_cri < chi_stat\n",
        "# OR alfa < p_value"
      ],
      "metadata": {
        "id": "94DBmixEo0Ip"
      },
      "id": "94DBmixEo0Ip",
      "execution_count": null,
      "outputs": []
    },
    {
      "cell_type": "code",
      "execution_count": null,
      "id": "524e6be0",
      "metadata": {
        "hidden": true,
        "id": "524e6be0"
      },
      "outputs": [],
      "source": [
        "# A coin is tossed 50 times, and 28 heads were seen\n",
        "# H0: Coin is fair\n",
        "# Ha: Coin is biased\n",
        "chi_stat = (28 - 25)**2/25 + (22 - 25)**2 /25 # chi_stat (observed value), compare it with chi_cri (critical value)\n",
        "chi_stat"
      ]
    },
    {
      "cell_type": "code",
      "execution_count": null,
      "id": "d8e1ca42",
      "metadata": {
        "hidden": true,
        "id": "d8e1ca42"
      },
      "outputs": [],
      "source": [
        "chi_cr = chi2.ppf(q=0.95, df=1)\n",
        "chi_cr   # critical chi value at alfa, can also check in Chi table online"
      ]
    },
    {
      "cell_type": "code",
      "execution_count": null,
      "id": "f790f905",
      "metadata": {
        "hidden": true,
        "id": "f790f905"
      },
      "outputs": [],
      "source": [
        "p_value = 1 - chi2.cdf(0.72, df=1) # p_value, compare it with alfa 0.05\n",
        "p_value"
      ]
    },
    {
      "cell_type": "code",
      "execution_count": null,
      "id": "e5b6244d",
      "metadata": {
        "hidden": true,
        "id": "e5b6244d"
      },
      "outputs": [],
      "source": [
        "chi_stat, p_value = chisquare([28, 22],[25, 25])      # no need df, but significance will be 95% \n",
        "print(chi_stat, p_value)  # chi_stat & p_value"
      ]
    },
    {
      "cell_type": "code",
      "source": [
        "# p-value > p-alfa --> fail to reject H0 (coin is fair)"
      ],
      "metadata": {
        "id": "44g5mmtom8BE"
      },
      "id": "44g5mmtom8BE",
      "execution_count": null,
      "outputs": []
    },
    {
      "cell_type": "code",
      "execution_count": null,
      "id": "c4c269e5",
      "metadata": {
        "code_folding": [],
        "hidden": true,
        "id": "c4c269e5"
      },
      "outputs": [],
      "source": [
        "# A coin is tossed 50 times, and 45 heads were seen\n",
        "# H0: Coin is fair\n",
        "# Ha: Coin is biased\n",
        "chi_stat, p_value = chisquare( [45, 5],[25,25] )       # ([obserbed],[expected])\n",
        "print(chi_stat, p_value)"
      ]
    },
    {
      "cell_type": "code",
      "execution_count": null,
      "id": "831e1adc",
      "metadata": {
        "hidden": true,
        "id": "831e1adc"
      },
      "outputs": [],
      "source": [
        "# p-alfa > p-value  --> reject H0 (coin is biased)\n",
        "# chi_stat > cri_chi --> reject H0 (coin is biased)"
      ]
    },
    {
      "cell_type": "markdown",
      "id": "ab1b7cae",
      "metadata": {
        "heading_collapsed": true,
        "id": "ab1b7cae"
      },
      "source": [
        "# Dice example (Chi)"
      ]
    },
    {
      "cell_type": "code",
      "execution_count": null,
      "id": "5d45e9ef",
      "metadata": {
        "hidden": true,
        "id": "5d45e9ef"
      },
      "outputs": [],
      "source": [
        "chi_stat = (2 - 6)**2/6 + (4 - 6)**2/6 + (8 - 6)**2/6 + (9 - 6)**2/6 + (3 - 6)**2/6 + (10 - 6)**2/6 \n",
        "chi_stat                        # Must find chi_stat"
      ]
    },
    {
      "cell_type": "code",
      "source": [
        "chi_cr = chi2.ppf(q=0.95, df=1)\n",
        "chi_cr                         # Now either find chi_cr"
      ],
      "metadata": {
        "id": "Ddya4tsQw0SA"
      },
      "id": "Ddya4tsQw0SA",
      "execution_count": null,
      "outputs": []
    },
    {
      "cell_type": "code",
      "source": [
        "if chi_cr < chi_stat:\n",
        "    print(\"Reject H0\")\n",
        "else:\n",
        "    print(\"fail to reject H0\")"
      ],
      "metadata": {
        "id": "CcTen51TxVdY"
      },
      "id": "CcTen51TxVdY",
      "execution_count": null,
      "outputs": []
    },
    {
      "cell_type": "code",
      "execution_count": null,
      "id": "9d723fa1",
      "metadata": {
        "hidden": true,
        "id": "9d723fa1"
      },
      "outputs": [],
      "source": [
        "p_val = 1 - chi2.cdf(chi_stat, df=5)\n",
        "p_val                          # OR can find p_val"
      ]
    },
    {
      "cell_type": "code",
      "source": [
        "if alfa > p_value:\n",
        "    print(\"Reject H0\")\n",
        "else:\n",
        "  print(\"fail to reject H0\")"
      ],
      "metadata": {
        "id": "3XZqnTlIxfYm"
      },
      "id": "3XZqnTlIxfYm",
      "execution_count": null,
      "outputs": []
    },
    {
      "cell_type": "code",
      "execution_count": null,
      "id": "271a210a",
      "metadata": {
        "hidden": true,
        "id": "271a210a"
      },
      "outputs": [],
      "source": [
        "alfa=0.1\n",
        "p_val=chi2.ppf(q=1-alfa, df=5)\n",
        "chi_stat, p_value = chisquare( [2,4,8,9,3,10],[6,6,6,6,6,6] )\n",
        "if alfa > p_value:\n",
        "    print(\"Reject H0\")\n",
        "else:\n",
        "  print(\"fail to reject H0\")\n",
        "if chi_cr < chi_stat:\n",
        "    print(\"Reject H0\")\n",
        "else:\n",
        "    print(\"fail to reject H0\")"
      ]
    },
    {
      "cell_type": "markdown",
      "source": [
        "# D70-4 (Chi)"
      ],
      "metadata": {
        "id": "2fRZrgWvyLOs"
      },
      "id": "2fRZrgWvyLOs"
    },
    {
      "cell_type": "code",
      "source": [
        "alfa=0.05\n",
        "A=sum([73,38,18])\n",
        "chi_stat, p_value = chisquare([73,38,18],[0.6*A,0.28*A,0.12*A])\n",
        "chi_stat, p_value"
      ],
      "metadata": {
        "id": "jVfhr51-zOz6"
      },
      "id": "jVfhr51-zOz6",
      "execution_count": null,
      "outputs": []
    },
    {
      "cell_type": "code",
      "source": [
        "if alfa > p_value:\n",
        "    print(\"Reject H0\")\n",
        "else:\n",
        "  print(\"fail to reject H0\")"
      ],
      "metadata": {
        "id": "l-o6PTT7zoZZ"
      },
      "id": "l-o6PTT7zoZZ",
      "execution_count": null,
      "outputs": []
    },
    {
      "cell_type": "code",
      "source": [
        "chi_cr = chi2.ppf(q=0.95, df=3-1)\n",
        "print(chi_cr)\n",
        "if chi_cr < chi_stat:\n",
        "    print(\"Reject H0\")\n",
        "else:\n",
        "    print(\"fail to reject H0\")"
      ],
      "metadata": {
        "id": "a7Hqmydl57h5"
      },
      "id": "a7Hqmydl57h5",
      "execution_count": null,
      "outputs": []
    },
    {
      "cell_type": "markdown",
      "source": [
        "# D70-7 (Chi)"
      ],
      "metadata": {
        "id": "4U6ycFCe9cci"
      },
      "id": "4U6ycFCe9cci"
    },
    {
      "cell_type": "markdown",
      "id": "50db4208",
      "metadata": {
        "heading_collapsed": true,
        "id": "50db4208"
      },
      "source": [
        "# Online Vs Offline -- Gender (Chi)"
      ]
    },
    {
      "cell_type": "code",
      "execution_count": null,
      "id": "b71b84fa",
      "metadata": {
        "hidden": true,
        "id": "b71b84fa"
      },
      "outputs": [],
      "source": [
        "observed = [\n",
        "    [527, 72],\n",
        "    [206, 102]\n",
        "]\n",
        "chi_stat, p_value, df, exp_freq = chi2_contingency(observed)\n",
        "print(chi_stat, p_value)"
      ]
    },
    {
      "cell_type": "code",
      "execution_count": null,
      "id": "e099c733",
      "metadata": {
        "hidden": true,
        "id": "e099c733"
      },
      "outputs": [],
      "source": [
        "print(df)"
      ]
    },
    {
      "cell_type": "code",
      "execution_count": null,
      "id": "646e32bc",
      "metadata": {
        "hidden": true,
        "id": "646e32bc"
      },
      "outputs": [],
      "source": [
        "print(exp_freq)"
      ]
    },
    {
      "cell_type": "markdown",
      "id": "f1868f62",
      "metadata": {
        "hidden": true,
        "id": "f1868f62"
      },
      "source": [
        " p-value is very small --> Gender affects preference for online vs offline"
      ]
    },
    {
      "cell_type": "markdown",
      "id": "d9d5ebb8",
      "metadata": {
        "heading_collapsed": true,
        "id": "d9d5ebb8"
      },
      "source": [
        "# iPhone Sales (Anova)"
      ]
    },
    {
      "cell_type": "code",
      "source": [
        "categories = 3\n",
        "numbers = 18\n",
        "\n",
        "DF1 = categories - 1                # divide in msb = ssb/DF1\n",
        "DF2 = numbers - categories          # divide in msw = ssw/DF2\n",
        "DF1,DF2\n"
      ],
      "metadata": {
        "id": "VDTHOhaxDYNb"
      },
      "id": "VDTHOhaxDYNb",
      "execution_count": null,
      "outputs": []
    },
    {
      "cell_type": "code",
      "execution_count": null,
      "id": "d108d07f",
      "metadata": {
        "hidden": true,
        "id": "d108d07f"
      },
      "outputs": [],
      "source": [
        "a = [25, 25, 27, 30, 23, 20]\n",
        "b = [30, 30, 21, 24, 26, 28]\n",
        "c = [18, 30, 29, 29, 24, 26]\n",
        "list_of_tuples = list(zip(a, b,c))\n",
        "df = pd.DataFrame(list_of_tuples, columns = ['A', 'B', 'C'])\n",
        "df"
      ]
    },
    {
      "cell_type": "code",
      "execution_count": null,
      "id": "c2d44008",
      "metadata": {
        "hidden": true,
        "id": "c2d44008"
      },
      "outputs": [],
      "source": [
        "m1 = np.mean(a)\n",
        "m2 = np.mean(b)\n",
        "m3 = np.mean(c)\n",
        "\n",
        "print('Average sales for A: {}'.format(m1))\n",
        "print('Average sales for B: {}'.format(m2))\n",
        "print('Average sales for C: {}'.format(m3))"
      ]
    },
    {
      "cell_type": "code",
      "execution_count": null,
      "id": "d86373e2",
      "metadata": {
        "hidden": true,
        "id": "d86373e2"
      },
      "outputs": [],
      "source": [
        "m = (m1+m2+m3)/3 \n",
        "print('Overall mean: {}'.format(m)) "
      ]
    },
    {
      "cell_type": "code",
      "execution_count": null,
      "id": "62d8a45e",
      "metadata": {
        "hidden": true,
        "id": "62d8a45e"
      },
      "outputs": [],
      "source": [
        "SSb = 6*((m1-m)**2+(m2-m)**2+(m3-m)**2)\n",
        "print('Between-groups Sum of Squared Differences: {}'.format(SSb))"
      ]
    },
    {
      "cell_type": "code",
      "execution_count": null,
      "id": "e6120573",
      "metadata": {
        "hidden": true,
        "id": "e6120573"
      },
      "outputs": [],
      "source": [
        "MSb = SSb/2\n",
        "print('Between-groups Mean Square value: {}'.format(MSb))"
      ]
    },
    {
      "cell_type": "code",
      "execution_count": null,
      "id": "34634834",
      "metadata": {
        "hidden": true,
        "id": "34634834"
      },
      "outputs": [],
      "source": [
        "err_a = list(a-m1)\n",
        "err_b = list(b-m2)\n",
        "err_c = list(c-m3)\n",
        "err = err_a+err_b+err_c\n",
        "ssw = []\n",
        "for i in err:\n",
        "    ssw.append(i**2)\n",
        "    \n",
        "SSw = np.sum(ssw)"
      ]
    },
    {
      "cell_type": "code",
      "execution_count": null,
      "id": "5ea19c3c",
      "metadata": {
        "hidden": true,
        "id": "5ea19c3c"
      },
      "outputs": [],
      "source": [
        "MSw = SSw/15\n",
        "print('Within-group Mean Square value: {}'.format(MSw))"
      ]
    },
    {
      "cell_type": "code",
      "execution_count": null,
      "id": "3b441832",
      "metadata": {
        "hidden": true,
        "id": "3b441832"
      },
      "outputs": [],
      "source": [
        "F = MSb/MSw\n",
        "print('F-score: {}'.format(F))"
      ]
    },
    {
      "cell_type": "code",
      "execution_count": null,
      "id": "f3580dad",
      "metadata": {
        "hidden": true,
        "id": "f3580dad"
      },
      "outputs": [],
      "source": [
        "f_stat, p_value = f_oneway(a,b,c) \n",
        "print(f_stat, p_value)"
      ]
    },
    {
      "cell_type": "code",
      "execution_count": null,
      "id": "3d051c35",
      "metadata": {
        "hidden": true,
        "id": "3d051c35"
      },
      "outputs": [],
      "source": [
        "# If assumptions of ANOVA don't hold, we need Kruskal Wallis\n",
        "kruskal(a, b, c)"
      ]
    },
    {
      "cell_type": "code",
      "execution_count": null,
      "id": "921e3478",
      "metadata": {
        "hidden": true,
        "id": "921e3478"
      },
      "outputs": [],
      "source": [
        "cr = f.ppf(0.95, dfn=2, dfd=15)"
      ]
    },
    {
      "cell_type": "code",
      "execution_count": null,
      "id": "964585ec",
      "metadata": {
        "hidden": true,
        "id": "964585ec"
      },
      "outputs": [],
      "source": [
        "cr"
      ]
    },
    {
      "cell_type": "code",
      "execution_count": null,
      "id": "00dd428b",
      "metadata": {
        "hidden": true,
        "id": "00dd428b"
      },
      "outputs": [],
      "source": [
        "x = df_aerofit[\"Miles\"]\n",
        "y = df_aerofit[\"Income\"]\n",
        "df_aerofit.plot.scatter(x=\"Miles\", y=\"Income\")\n",
        "plt.axvline(x.mean())\n",
        "plt.axhline(y.mean())\n",
        "# H0: x and y are uncorrelated\n",
        "corr_stat, p_value = pearsonr(x, y) #stat, p-value; p-value is very small --> reject H0\n",
        "if p_value < 0.05:\n",
        "    print(\"Null hypothesis is rejected\")"
      ]
    },
    {
      "cell_type": "code",
      "execution_count": null,
      "id": "089fd50e",
      "metadata": {
        "hidden": true,
        "id": "089fd50e"
      },
      "outputs": [],
      "source": [
        "plt.figure(figsize=(12, 12))\n",
        "sns.heatmap(df_aerofit.corr(method='pearson'), square=True,annot=True, cmap=\"Blues\")"
      ]
    },
    {
      "cell_type": "markdown",
      "source": [
        "# D70-5 (Anova)"
      ],
      "metadata": {
        "id": "ILjhBJuEQ4po"
      },
      "id": "ILjhBJuEQ4po"
    },
    {
      "cell_type": "code",
      "source": [
        "a=[8,9,11,12]\n",
        "b=[6,8,10,4]\n",
        "c=[14,12,18,9]\n",
        "d=[20,22,25,23]\n",
        "f_stat, p_value = f_oneway(a,b,c,d) \n",
        "print(f_stat, p_value)"
      ],
      "metadata": {
        "id": "EApqyM5sLD0E"
      },
      "id": "EApqyM5sLD0E",
      "execution_count": null,
      "outputs": []
    },
    {
      "cell_type": "code",
      "source": [
        "f_cr = f.ppf(0.95, dfn=3, dfd=12)\n",
        "f_cr"
      ],
      "metadata": {
        "id": "F-veUg1aIMLw"
      },
      "id": "F-veUg1aIMLw",
      "execution_count": null,
      "outputs": []
    },
    {
      "cell_type": "code",
      "source": [
        "if f_cr < f_stat:\n",
        "    print(\"Reject H0\")\n",
        "else:\n",
        "  print(\"fail to reject H0\")"
      ],
      "metadata": {
        "id": "ucP9WMZTRAZC"
      },
      "id": "ucP9WMZTRAZC",
      "execution_count": null,
      "outputs": []
    },
    {
      "cell_type": "markdown",
      "source": [
        "# D70-7 (Anova)"
      ],
      "metadata": {
        "id": "kDf_Wj83J2O1"
      },
      "id": "kDf_Wj83J2O1"
    },
    {
      "cell_type": "code",
      "source": [
        "categories = 3\n",
        "numbers = 14\n",
        "\n",
        "DF1 = categories - 1                # divide in msb = ssb/DF1\n",
        "DF2 = numbers - categories          # divide in msw = ssw/DF2\n",
        "DF1,DF2"
      ],
      "metadata": {
        "id": "By9ZIZ56Et0c"
      },
      "id": "By9ZIZ56Et0c",
      "execution_count": null,
      "outputs": []
    },
    {
      "cell_type": "code",
      "source": [
        "a=[300,400,300,500,0]\n",
        "b=[600,300,300,400]\n",
        "c=[700,300,400,600,500]\n",
        "f_stat, p_value = f_oneway(a,b,c) \n",
        "print(f_stat, p_value)"
      ],
      "metadata": {
        "id": "wxy42406CDf3"
      },
      "id": "wxy42406CDf3",
      "execution_count": null,
      "outputs": []
    },
    {
      "cell_type": "code",
      "source": [
        "if 0.05 > p_value:\n",
        "    print(\"Reject H0\")\n",
        "else:\n",
        "  print(\"fail to reject H0\")"
      ],
      "metadata": {
        "id": "aT6FPirJGBAF"
      },
      "id": "aT6FPirJGBAF",
      "execution_count": null,
      "outputs": []
    },
    {
      "cell_type": "code",
      "source": [
        "f_cr = f.ppf(0.95, dfn=2, dfd=11)\n",
        "f_cr"
      ],
      "metadata": {
        "id": "UP5xv42wLYC4"
      },
      "id": "UP5xv42wLYC4",
      "execution_count": null,
      "outputs": []
    },
    {
      "cell_type": "code",
      "source": [
        "if f_cr < f_stat:\n",
        "    print(\"Reject H0\")\n",
        "else:\n",
        "  print(\"fail to reject H0\")"
      ],
      "metadata": {
        "id": "ESNSDBrjJASf"
      },
      "id": "ESNSDBrjJASf",
      "execution_count": null,
      "outputs": []
    },
    {
      "cell_type": "markdown",
      "id": "36b56353",
      "metadata": {
        "heading_collapsed": true,
        "id": "36b56353"
      },
      "source": [
        "# Aerofit (Anova)"
      ]
    },
    {
      "cell_type": "code",
      "execution_count": null,
      "id": "db9ad87b",
      "metadata": {
        "hidden": true,
        "id": "db9ad87b"
      },
      "outputs": [],
      "source": [
        "df_aerofit = pd.read_csv(\"aerofit.csv\")"
      ]
    },
    {
      "cell_type": "code",
      "execution_count": null,
      "id": "a6b85520",
      "metadata": {
        "hidden": true,
        "id": "a6b85520"
      },
      "outputs": [],
      "source": [
        "df_aerofit.head()"
      ]
    },
    {
      "cell_type": "code",
      "execution_count": null,
      "id": "cd471a22",
      "metadata": {
        "hidden": true,
        "id": "cd471a22"
      },
      "outputs": [],
      "source": [
        "df_aerofit[\"Product\"].unique()"
      ]
    },
    {
      "cell_type": "markdown",
      "id": "c07a334b",
      "metadata": {
        "heading_collapsed": true,
        "hidden": true,
        "id": "c07a334b"
      },
      "source": [
        "## Income VS product"
      ]
    },
    {
      "cell_type": "code",
      "execution_count": null,
      "id": "67a019e8",
      "metadata": {
        "hidden": true,
        "id": "67a019e8"
      },
      "outputs": [],
      "source": [
        "sns.boxplot(x='Product', y='Income', data=df_aerofit)"
      ]
    },
    {
      "cell_type": "code",
      "execution_count": null,
      "id": "a47916b5",
      "metadata": {
        "hidden": true,
        "id": "a47916b5"
      },
      "outputs": [],
      "source": [
        "a = df_aerofit[df_aerofit[\"Product\"]==\"KP281\"][\"Income\"]\n",
        "b = df_aerofit[df_aerofit[\"Product\"]==\"KP481\"][\"Income\"]\n",
        "c = df_aerofit[df_aerofit[\"Product\"]==\"KP781\"][\"Income\"]"
      ]
    },
    {
      "cell_type": "code",
      "execution_count": null,
      "id": "29de7a78",
      "metadata": {
        "hidden": true,
        "id": "29de7a78"
      },
      "outputs": [],
      "source": [
        "# H0: all three have same mean\n",
        "f_oneway(a, b, c)"
      ]
    },
    {
      "cell_type": "code",
      "execution_count": null,
      "id": "ffb9e56a",
      "metadata": {
        "hidden": true,
        "id": "ffb9e56a"
      },
      "outputs": [],
      "source": [
        "# p-value is small -- Reject H0"
      ]
    },
    {
      "cell_type": "code",
      "execution_count": null,
      "id": "4f36cbe9",
      "metadata": {
        "hidden": true,
        "id": "4f36cbe9"
      },
      "outputs": [],
      "source": [
        "kruskal(a, b, c)"
      ]
    },
    {
      "cell_type": "code",
      "execution_count": null,
      "id": "afaeddc6",
      "metadata": {
        "hidden": true,
        "id": "afaeddc6"
      },
      "outputs": [],
      "source": [
        "# p-value is small -- Reject H0"
      ]
    },
    {
      "cell_type": "code",
      "execution_count": null,
      "id": "140dba2f",
      "metadata": {
        "hidden": true,
        "id": "140dba2f"
      },
      "outputs": [],
      "source": [
        "bins = [0, df_aerofit[\"Income\"].median(), df_aerofit[\"Income\"].max()]\n",
        "labels = [\"low\", \"high\"]\n",
        "df_aerofit[\"Income_bin\"] = pd.cut(df_aerofit[\"Income\"], bins, labels=labels)"
      ]
    },
    {
      "cell_type": "code",
      "execution_count": null,
      "id": "89afb31a",
      "metadata": {
        "hidden": true,
        "id": "89afb31a"
      },
      "outputs": [],
      "source": [
        "df_aerofit.head()"
      ]
    },
    {
      "cell_type": "code",
      "execution_count": null,
      "id": "9471c29f",
      "metadata": {
        "hidden": true,
        "id": "9471c29f"
      },
      "outputs": [],
      "source": [
        "income_bin_product = pd.crosstab(index=df_aerofit[\"Income_bin\"], columns=df_aerofit[\"Product\"])\n",
        "income_bin_product"
      ]
    },
    {
      "cell_type": "code",
      "execution_count": null,
      "id": "e8c65ae0",
      "metadata": {
        "hidden": true,
        "id": "e8c65ae0"
      },
      "outputs": [],
      "source": [
        "# H0: income bin and product are independent\n",
        "# Ha: dependant\n",
        "chi2_contingency(income_bin_product) # chistat, p-value, df, expected"
      ]
    },
    {
      "cell_type": "code",
      "execution_count": null,
      "id": "9105da3e",
      "metadata": {
        "hidden": true,
        "id": "9105da3e"
      },
      "outputs": [],
      "source": [
        "# p-value is small -- we reject H0"
      ]
    },
    {
      "cell_type": "markdown",
      "id": "78e39113",
      "metadata": {
        "heading_collapsed": true,
        "hidden": true,
        "id": "78e39113"
      },
      "source": [
        "## Gender and product"
      ]
    },
    {
      "cell_type": "code",
      "source": [
        "gender_product = pd.crosstab(index=df_aerofit['Gender'],columns=df_aerofit['Product'])\n",
        "gender_product"
      ],
      "metadata": {
        "id": "jxfuC2dO9OTe"
      },
      "id": "jxfuC2dO9OTe",
      "execution_count": null,
      "outputs": []
    },
    {
      "cell_type": "code",
      "execution_count": null,
      "id": "900a3ee5",
      "metadata": {
        "hidden": true,
        "id": "900a3ee5"
      },
      "outputs": [],
      "source": [
        "chi2_contingency(gender_product) # chi_stat, p_value, dof, expected"
      ]
    },
    {
      "cell_type": "markdown",
      "id": "994ffe08",
      "metadata": {
        "heading_collapsed": true,
        "hidden": true,
        "id": "994ffe08"
      },
      "source": [
        "## Gender and income"
      ]
    },
    {
      "cell_type": "code",
      "execution_count": null,
      "id": "f3c2b3ac",
      "metadata": {
        "hidden": true,
        "id": "f3c2b3ac"
      },
      "outputs": [],
      "source": [
        "sns.boxplot(x='Gender', y='Income', data=df_aerofit)"
      ]
    },
    {
      "cell_type": "code",
      "execution_count": null,
      "id": "27ab6bf5",
      "metadata": {
        "hidden": true,
        "id": "27ab6bf5"
      },
      "outputs": [],
      "source": [
        "a = df_aerofit[df_aerofit[\"Gender\"]==\"Male\"][\"Income\"]\n",
        "b = df_aerofit[df_aerofit[\"Gender\"]==\"Female\"][\"Income\"]"
      ]
    },
    {
      "cell_type": "code",
      "execution_count": null,
      "id": "fc313dc3",
      "metadata": {
        "hidden": true,
        "id": "fc313dc3"
      },
      "outputs": [],
      "source": [
        "# H0: Gender and income are independent (equal mean)\n",
        "ttest_ind(a, b)"
      ]
    },
    {
      "cell_type": "code",
      "execution_count": null,
      "id": "029d89ae",
      "metadata": {
        "hidden": true,
        "id": "029d89ae"
      },
      "outputs": [],
      "source": [
        "f_oneway(a, b)"
      ]
    },
    {
      "cell_type": "code",
      "execution_count": null,
      "id": "db813921",
      "metadata": {
        "hidden": true,
        "id": "db813921"
      },
      "outputs": [],
      "source": [
        "kruskal(a, b)"
      ]
    },
    {
      "cell_type": "code",
      "execution_count": null,
      "id": "9cce8adb",
      "metadata": {
        "hidden": true,
        "id": "9cce8adb"
      },
      "outputs": [],
      "source": [
        "# Gender and Income Bin\n",
        "gender_income = pd.crosstab(index=df_aerofit[\"Gender\"], columns=df_aerofit[\"Income_bin\"])\n",
        "gender_income"
      ]
    },
    {
      "cell_type": "code",
      "execution_count": null,
      "id": "dd1836f4",
      "metadata": {
        "hidden": true,
        "id": "dd1836f4"
      },
      "outputs": [],
      "source": [
        "# H0: Gender does not affect income\n",
        "chi2_contingency(gender_income)"
      ]
    },
    {
      "cell_type": "code",
      "execution_count": null,
      "id": "dd0ebef9",
      "metadata": {
        "hidden": true,
        "id": "dd0ebef9"
      },
      "outputs": [],
      "source": [
        "# Statistically significant at 95% confidence\n",
        "# Reject H0"
      ]
    },
    {
      "cell_type": "markdown",
      "id": "97363983",
      "metadata": {
        "hidden": true,
        "id": "97363983"
      },
      "source": [
        "## Correlations"
      ]
    },
    {
      "cell_type": "code",
      "execution_count": null,
      "id": "fbf14b73",
      "metadata": {
        "hidden": true,
        "id": "fbf14b73"
      },
      "outputs": [],
      "source": [
        "df_aerofit.describe()"
      ]
    },
    {
      "cell_type": "markdown",
      "id": "59dc18e9",
      "metadata": {
        "heading_collapsed": true,
        "id": "59dc18e9"
      },
      "source": [
        "# Two drug recovery (t-test)"
      ]
    },
    {
      "cell_type": "code",
      "execution_count": null,
      "id": "f6582342",
      "metadata": {
        "hidden": true,
        "id": "f6582342"
      },
      "outputs": [],
      "source": [
        "d1 = pd.read_csv(\"drug_1_recovery.csv\")\n",
        "d1"
      ]
    },
    {
      "cell_type": "code",
      "execution_count": null,
      "id": "4a38bcf5",
      "metadata": {
        "hidden": true,
        "id": "4a38bcf5"
      },
      "outputs": [],
      "source": [
        "d2 = pd.read_csv(\"drug_2_recovery.csv\")"
      ]
    },
    {
      "cell_type": "code",
      "execution_count": null,
      "id": "7ab783e3",
      "metadata": {
        "hidden": true,
        "id": "7ab783e3"
      },
      "outputs": [],
      "source": [
        "len(d1)"
      ]
    },
    {
      "cell_type": "code",
      "execution_count": null,
      "id": "8b4ee081",
      "metadata": {
        "hidden": true,
        "id": "8b4ee081"
      },
      "outputs": [],
      "source": [
        "len(d2)"
      ]
    },
    {
      "cell_type": "code",
      "execution_count": null,
      "id": "ea637a66",
      "metadata": {
        "hidden": true,
        "id": "ea637a66"
      },
      "outputs": [],
      "source": [
        "d1.mean()"
      ]
    },
    {
      "cell_type": "code",
      "execution_count": null,
      "id": "f602e845",
      "metadata": {
        "hidden": true,
        "id": "f602e845"
      },
      "outputs": [],
      "source": [
        "d2.mean()"
      ]
    },
    {
      "cell_type": "code",
      "execution_count": null,
      "id": "d71b837d",
      "metadata": {
        "hidden": true,
        "id": "d71b837d"
      },
      "outputs": [],
      "source": [
        "# H0: mu1 = mu2 (both drugs are same)\n",
        "# Ha: mu1 not= mu2\n",
        "ttest_ind(d1, d2)"
      ]
    },
    {
      "cell_type": "markdown",
      "id": "f0d2ed25",
      "metadata": {
        "hidden": true,
        "id": "f0d2ed25"
      },
      "source": [
        "p-values is very small --> reject null hypothesis"
      ]
    },
    {
      "cell_type": "code",
      "execution_count": null,
      "id": "5f8e171d",
      "metadata": {
        "hidden": true,
        "id": "5f8e171d"
      },
      "outputs": [],
      "source": [
        "# H0: mu1 = mu2 (both drugs are same)\n",
        "# Ha: mu1 < mu2\n",
        "ttest_ind(d1, d2, alternative=\"less\") # left tailed"
      ]
    },
    {
      "cell_type": "code",
      "execution_count": null,
      "id": "9a40d03b",
      "metadata": {
        "hidden": true,
        "id": "9a40d03b"
      },
      "outputs": [],
      "source": [
        "# H0: mu1 = mu2 (both drugs are same)\n",
        "# Ha: mu1 > mu2\n",
        "ttest_ind(d1, d2, alternative=\"greater\") # right tailed"
      ]
    },
    {
      "cell_type": "markdown",
      "id": "cd22a5e2",
      "metadata": {
        "heading_collapsed": true,
        "id": "cd22a5e2"
      },
      "source": [
        "# Sachin (t-test, ks test)"
      ]
    },
    {
      "cell_type": "code",
      "execution_count": null,
      "id": "f06b2524",
      "metadata": {
        "hidden": true,
        "id": "f06b2524"
      },
      "outputs": [],
      "source": [
        "df = pd.read_csv(\"Sachin_ODI.csv\")"
      ]
    },
    {
      "cell_type": "code",
      "execution_count": null,
      "id": "54d918b5",
      "metadata": {
        "hidden": true,
        "id": "54d918b5",
        "colab": {
          "base_uri": "https://localhost:8080/",
          "height": 206
        },
        "outputId": "b835b980-b9c1-48f3-b8f3-82df2a8e35e9"
      },
      "outputs": [
        {
          "output_type": "execute_result",
          "data": {
            "text/plain": [
              "   runs  NotOut mins  bf  fours  sixes      sr  Inns           Opp    Ground  \\\n",
              "0    13       0   30  15      3      0   86.66     1   New Zealand    Napier   \n",
              "1    37       0   75  51      3      1   72.54     2  South Africa  Hamilton   \n",
              "2    47       0   65  40      7      0  117.50     2     Australia   Dunedin   \n",
              "3    48       0   37  30      9      1  160.00     2    Bangladesh   Sharjah   \n",
              "4     4       0   13   9      1      0   44.44     2      Pakistan   Sharjah   \n",
              "\n",
              "         Date        Winner Century  Won  \n",
              "0  1995-02-16   New Zealand      No   No  \n",
              "1  1995-02-18  South Africa      No   No  \n",
              "2  1995-02-22         India      No  Yes  \n",
              "3  1995-04-05         India      No  Yes  \n",
              "4  1995-04-07      Pakistan      No   No  "
            ],
            "text/html": [
              "\n",
              "  <div id=\"df-82fa5e02-7175-4994-abdf-122fa089cda4\">\n",
              "    <div class=\"colab-df-container\">\n",
              "      <div>\n",
              "<style scoped>\n",
              "    .dataframe tbody tr th:only-of-type {\n",
              "        vertical-align: middle;\n",
              "    }\n",
              "\n",
              "    .dataframe tbody tr th {\n",
              "        vertical-align: top;\n",
              "    }\n",
              "\n",
              "    .dataframe thead th {\n",
              "        text-align: right;\n",
              "    }\n",
              "</style>\n",
              "<table border=\"1\" class=\"dataframe\">\n",
              "  <thead>\n",
              "    <tr style=\"text-align: right;\">\n",
              "      <th></th>\n",
              "      <th>runs</th>\n",
              "      <th>NotOut</th>\n",
              "      <th>mins</th>\n",
              "      <th>bf</th>\n",
              "      <th>fours</th>\n",
              "      <th>sixes</th>\n",
              "      <th>sr</th>\n",
              "      <th>Inns</th>\n",
              "      <th>Opp</th>\n",
              "      <th>Ground</th>\n",
              "      <th>Date</th>\n",
              "      <th>Winner</th>\n",
              "      <th>Century</th>\n",
              "      <th>Won</th>\n",
              "    </tr>\n",
              "  </thead>\n",
              "  <tbody>\n",
              "    <tr>\n",
              "      <th>0</th>\n",
              "      <td>13</td>\n",
              "      <td>0</td>\n",
              "      <td>30</td>\n",
              "      <td>15</td>\n",
              "      <td>3</td>\n",
              "      <td>0</td>\n",
              "      <td>86.66</td>\n",
              "      <td>1</td>\n",
              "      <td>New Zealand</td>\n",
              "      <td>Napier</td>\n",
              "      <td>1995-02-16</td>\n",
              "      <td>New Zealand</td>\n",
              "      <td>No</td>\n",
              "      <td>No</td>\n",
              "    </tr>\n",
              "    <tr>\n",
              "      <th>1</th>\n",
              "      <td>37</td>\n",
              "      <td>0</td>\n",
              "      <td>75</td>\n",
              "      <td>51</td>\n",
              "      <td>3</td>\n",
              "      <td>1</td>\n",
              "      <td>72.54</td>\n",
              "      <td>2</td>\n",
              "      <td>South Africa</td>\n",
              "      <td>Hamilton</td>\n",
              "      <td>1995-02-18</td>\n",
              "      <td>South Africa</td>\n",
              "      <td>No</td>\n",
              "      <td>No</td>\n",
              "    </tr>\n",
              "    <tr>\n",
              "      <th>2</th>\n",
              "      <td>47</td>\n",
              "      <td>0</td>\n",
              "      <td>65</td>\n",
              "      <td>40</td>\n",
              "      <td>7</td>\n",
              "      <td>0</td>\n",
              "      <td>117.50</td>\n",
              "      <td>2</td>\n",
              "      <td>Australia</td>\n",
              "      <td>Dunedin</td>\n",
              "      <td>1995-02-22</td>\n",
              "      <td>India</td>\n",
              "      <td>No</td>\n",
              "      <td>Yes</td>\n",
              "    </tr>\n",
              "    <tr>\n",
              "      <th>3</th>\n",
              "      <td>48</td>\n",
              "      <td>0</td>\n",
              "      <td>37</td>\n",
              "      <td>30</td>\n",
              "      <td>9</td>\n",
              "      <td>1</td>\n",
              "      <td>160.00</td>\n",
              "      <td>2</td>\n",
              "      <td>Bangladesh</td>\n",
              "      <td>Sharjah</td>\n",
              "      <td>1995-04-05</td>\n",
              "      <td>India</td>\n",
              "      <td>No</td>\n",
              "      <td>Yes</td>\n",
              "    </tr>\n",
              "    <tr>\n",
              "      <th>4</th>\n",
              "      <td>4</td>\n",
              "      <td>0</td>\n",
              "      <td>13</td>\n",
              "      <td>9</td>\n",
              "      <td>1</td>\n",
              "      <td>0</td>\n",
              "      <td>44.44</td>\n",
              "      <td>2</td>\n",
              "      <td>Pakistan</td>\n",
              "      <td>Sharjah</td>\n",
              "      <td>1995-04-07</td>\n",
              "      <td>Pakistan</td>\n",
              "      <td>No</td>\n",
              "      <td>No</td>\n",
              "    </tr>\n",
              "  </tbody>\n",
              "</table>\n",
              "</div>\n",
              "      <button class=\"colab-df-convert\" onclick=\"convertToInteractive('df-82fa5e02-7175-4994-abdf-122fa089cda4')\"\n",
              "              title=\"Convert this dataframe to an interactive table.\"\n",
              "              style=\"display:none;\">\n",
              "        \n",
              "  <svg xmlns=\"http://www.w3.org/2000/svg\" height=\"24px\"viewBox=\"0 0 24 24\"\n",
              "       width=\"24px\">\n",
              "    <path d=\"M0 0h24v24H0V0z\" fill=\"none\"/>\n",
              "    <path d=\"M18.56 5.44l.94 2.06.94-2.06 2.06-.94-2.06-.94-.94-2.06-.94 2.06-2.06.94zm-11 1L8.5 8.5l.94-2.06 2.06-.94-2.06-.94L8.5 2.5l-.94 2.06-2.06.94zm10 10l.94 2.06.94-2.06 2.06-.94-2.06-.94-.94-2.06-.94 2.06-2.06.94z\"/><path d=\"M17.41 7.96l-1.37-1.37c-.4-.4-.92-.59-1.43-.59-.52 0-1.04.2-1.43.59L10.3 9.45l-7.72 7.72c-.78.78-.78 2.05 0 2.83L4 21.41c.39.39.9.59 1.41.59.51 0 1.02-.2 1.41-.59l7.78-7.78 2.81-2.81c.8-.78.8-2.07 0-2.86zM5.41 20L4 18.59l7.72-7.72 1.47 1.35L5.41 20z\"/>\n",
              "  </svg>\n",
              "      </button>\n",
              "      \n",
              "  <style>\n",
              "    .colab-df-container {\n",
              "      display:flex;\n",
              "      flex-wrap:wrap;\n",
              "      gap: 12px;\n",
              "    }\n",
              "\n",
              "    .colab-df-convert {\n",
              "      background-color: #E8F0FE;\n",
              "      border: none;\n",
              "      border-radius: 50%;\n",
              "      cursor: pointer;\n",
              "      display: none;\n",
              "      fill: #1967D2;\n",
              "      height: 32px;\n",
              "      padding: 0 0 0 0;\n",
              "      width: 32px;\n",
              "    }\n",
              "\n",
              "    .colab-df-convert:hover {\n",
              "      background-color: #E2EBFA;\n",
              "      box-shadow: 0px 1px 2px rgba(60, 64, 67, 0.3), 0px 1px 3px 1px rgba(60, 64, 67, 0.15);\n",
              "      fill: #174EA6;\n",
              "    }\n",
              "\n",
              "    [theme=dark] .colab-df-convert {\n",
              "      background-color: #3B4455;\n",
              "      fill: #D2E3FC;\n",
              "    }\n",
              "\n",
              "    [theme=dark] .colab-df-convert:hover {\n",
              "      background-color: #434B5C;\n",
              "      box-shadow: 0px 1px 3px 1px rgba(0, 0, 0, 0.15);\n",
              "      filter: drop-shadow(0px 1px 2px rgba(0, 0, 0, 0.3));\n",
              "      fill: #FFFFFF;\n",
              "    }\n",
              "  </style>\n",
              "\n",
              "      <script>\n",
              "        const buttonEl =\n",
              "          document.querySelector('#df-82fa5e02-7175-4994-abdf-122fa089cda4 button.colab-df-convert');\n",
              "        buttonEl.style.display =\n",
              "          google.colab.kernel.accessAllowed ? 'block' : 'none';\n",
              "\n",
              "        async function convertToInteractive(key) {\n",
              "          const element = document.querySelector('#df-82fa5e02-7175-4994-abdf-122fa089cda4');\n",
              "          const dataTable =\n",
              "            await google.colab.kernel.invokeFunction('convertToInteractive',\n",
              "                                                     [key], {});\n",
              "          if (!dataTable) return;\n",
              "\n",
              "          const docLinkHtml = 'Like what you see? Visit the ' +\n",
              "            '<a target=\"_blank\" href=https://colab.research.google.com/notebooks/data_table.ipynb>data table notebook</a>'\n",
              "            + ' to learn more about interactive tables.';\n",
              "          element.innerHTML = '';\n",
              "          dataTable['output_type'] = 'display_data';\n",
              "          await google.colab.output.renderOutput(dataTable, element);\n",
              "          const docLink = document.createElement('div');\n",
              "          docLink.innerHTML = docLinkHtml;\n",
              "          element.appendChild(docLink);\n",
              "        }\n",
              "      </script>\n",
              "    </div>\n",
              "  </div>\n",
              "  "
            ]
          },
          "metadata": {},
          "execution_count": 5
        }
      ],
      "source": [
        "df.head()"
      ]
    },
    {
      "cell_type": "markdown",
      "id": "5f75f6d4",
      "metadata": {
        "heading_collapsed": true,
        "hidden": true,
        "id": "5f75f6d4"
      },
      "source": [
        "## First Vs Second innings"
      ]
    },
    {
      "cell_type": "code",
      "execution_count": null,
      "id": "a217ee8a",
      "metadata": {
        "hidden": true,
        "id": "a217ee8a",
        "colab": {
          "base_uri": "https://localhost:8080/"
        },
        "outputId": "942bfecc-13a1-49ad-8e76-6e264fb36ad1"
      },
      "outputs": [
        {
          "output_type": "execute_result",
          "data": {
            "text/plain": [
              "Inns\n",
              "1    46.670588\n",
              "2    40.173684\n",
              "Name: runs, dtype: float64"
            ]
          },
          "metadata": {},
          "execution_count": 6
        }
      ],
      "source": [
        "df.groupby([\"Inns\"])[\"runs\"].mean()"
      ]
    },
    {
      "cell_type": "code",
      "execution_count": null,
      "id": "d137e54b",
      "metadata": {
        "hidden": true,
        "id": "d137e54b"
      },
      "outputs": [],
      "source": [
        "df_first_innings = df[df[\"Inns\"]==1]\n",
        "df_second_innings = df[df[\"Inns\"]==2]"
      ]
    },
    {
      "cell_type": "code",
      "execution_count": null,
      "id": "4afdb2a7",
      "metadata": {
        "hidden": true,
        "id": "4afdb2a7",
        "colab": {
          "base_uri": "https://localhost:8080/"
        },
        "outputId": "2279bca2-b8d8-4e35-ac45-b6a27f22629e"
      },
      "outputs": [
        {
          "output_type": "execute_result",
          "data": {
            "text/plain": [
              "Ttest_indResult(statistic=1.4612016295532178, pvalue=0.14483724194759962)"
            ]
          },
          "metadata": {},
          "execution_count": 8
        }
      ],
      "source": [
        "# H0: scoring pattern across these two are the same\n",
        "ttest_ind(df_first_innings[\"runs\"], df_second_innings[\"runs\"])\n",
        "# Fail to reject: they are the same"
      ]
    },
    {
      "cell_type": "code",
      "execution_count": null,
      "id": "3d3c39b4",
      "metadata": {
        "hidden": true,
        "id": "3d3c39b4",
        "colab": {
          "base_uri": "https://localhost:8080/"
        },
        "outputId": "4c0beb9f-be30-4bbb-96d5-e0fc18e96ced"
      },
      "outputs": [
        {
          "output_type": "execute_result",
          "data": {
            "text/plain": [
              "F_onewayResult(statistic=2.1351102022089794, pvalue=0.1448372419476105)"
            ]
          },
          "metadata": {},
          "execution_count": 9
        }
      ],
      "source": [
        "f_oneway(df_first_innings[\"runs\"], df_second_innings[\"runs\"])"
      ]
    },
    {
      "cell_type": "code",
      "execution_count": null,
      "id": "8f0c22b8",
      "metadata": {
        "hidden": true,
        "id": "8f0c22b8"
      },
      "outputs": [],
      "source": [
        "e1 = ECDF(df_first_innings[\"runs\"])\n",
        "e2 = ECDF(df_second_innings[\"runs\"])"
      ]
    },
    {
      "cell_type": "code",
      "execution_count": null,
      "id": "a68fa787",
      "metadata": {
        "hidden": true,
        "id": "a68fa787",
        "colab": {
          "base_uri": "https://localhost:8080/",
          "height": 283
        },
        "outputId": "fba4f46d-a879-471f-ed1a-59d4f3faea13"
      },
      "outputs": [
        {
          "output_type": "execute_result",
          "data": {
            "text/plain": [
              "[<matplotlib.lines.Line2D at 0x7fe5371dd550>]"
            ]
          },
          "metadata": {},
          "execution_count": 11
        },
        {
          "output_type": "display_data",
          "data": {
            "text/plain": [
              "<Figure size 432x288 with 1 Axes>"
            ],
            "image/png": "[encoded data removed]"
          },
          "metadata": {
            "needs_background": "light"
          }
        }
      ],
      "source": [
        "plt.plot(e1.x, e1.y, c='b')\n",
        "plt.plot(e2.x, e2.y, c='r')"
      ]
    },
    {
      "cell_type": "code",
      "execution_count": null,
      "id": "7b25ed3d",
      "metadata": {
        "hidden": true,
        "id": "7b25ed3d"
      },
      "outputs": [],
      "source": [
        "# H0: two samples come from same distribution\n",
        "kstest(df_first_innings[\"runs\"], df_second_innings[\"runs\"])"
      ]
    },
    {
      "cell_type": "code",
      "execution_count": null,
      "id": "139f4954",
      "metadata": {
        "hidden": true,
        "id": "139f4954"
      },
      "outputs": [],
      "source": [
        "# p-value is high\n",
        "# Stick with the null hypothesis"
      ]
    },
    {
      "cell_type": "markdown",
      "id": "0220616d",
      "metadata": {
        "heading_collapsed": true,
        "hidden": true,
        "id": "0220616d"
      },
      "source": [
        "## Won Vs Lost"
      ]
    },
    {
      "cell_type": "code",
      "execution_count": null,
      "id": "615ed875",
      "metadata": {
        "hidden": true,
        "id": "615ed875"
      },
      "outputs": [],
      "source": [
        "df.groupby([\"Won\"])[\"runs\"].mean()"
      ]
    },
    {
      "cell_type": "code",
      "execution_count": null,
      "id": "9db10d6f",
      "metadata": {
        "hidden": true,
        "id": "9db10d6f"
      },
      "outputs": [],
      "source": [
        "df_won = df[df[\"Won\"]==True]\n",
        "df_lost = df[df[\"Won\"]==False]"
      ]
    },
    {
      "cell_type": "code",
      "execution_count": null,
      "id": "0053509a",
      "metadata": {
        "hidden": true,
        "id": "0053509a"
      },
      "outputs": [],
      "source": [
        "# H0: same scoring pattern\n",
        "# Ha: different scoring pattern (2-tailed)\n",
        "ttest_ind(df_won[\"runs\"], df_lost[\"runs\"])"
      ]
    },
    {
      "cell_type": "code",
      "execution_count": null,
      "id": "156669ea",
      "metadata": {
        "hidden": true,
        "id": "156669ea"
      },
      "outputs": [],
      "source": [
        "f_oneway(df_won[\"runs\"], df_lost[\"runs\"])"
      ]
    },
    {
      "cell_type": "code",
      "execution_count": null,
      "id": "44149a6c",
      "metadata": {
        "hidden": true,
        "id": "44149a6c"
      },
      "outputs": [],
      "source": [
        "# H0: same scoring pattern\n",
        "# Ha: better scoring in matches won\n",
        "ttest_ind(df_won[\"runs\"], df_lost[\"runs\"], alternative=\"greater\")"
      ]
    },
    {
      "cell_type": "code",
      "execution_count": null,
      "id": "93c7f985",
      "metadata": {
        "hidden": true,
        "id": "93c7f985"
      },
      "outputs": [],
      "source": [
        "# H0: same scoring pattern\n",
        "# Ha: worse scoring in matches won\n",
        "ttest_ind(df_won[\"runs\"], df_lost[\"runs\"], alternative=\"less\")"
      ]
    },
    {
      "cell_type": "code",
      "execution_count": null,
      "id": "844332b4",
      "metadata": {
        "hidden": true,
        "id": "844332b4"
      },
      "outputs": [],
      "source": [
        "e1 = ECDF(df_won[\"runs\"])\n",
        "e2 = ECDF(df_lost[\"runs\"])"
      ]
    },
    {
      "cell_type": "code",
      "execution_count": null,
      "id": "68c32656",
      "metadata": {
        "hidden": true,
        "id": "68c32656"
      },
      "outputs": [],
      "source": [
        "plt.plot(e1.x, e1.y, c=\"r\")\n",
        "plt.plot(e2.x, e2.y, c=\"b\")"
      ]
    },
    {
      "cell_type": "code",
      "execution_count": null,
      "id": "f3373583",
      "metadata": {
        "hidden": true,
        "id": "f3373583"
      },
      "outputs": [],
      "source": [
        "# Is the gap in the cdf statistically significant or not"
      ]
    },
    {
      "cell_type": "code",
      "execution_count": null,
      "id": "ac6078ef",
      "metadata": {
        "hidden": true,
        "id": "ac6078ef"
      },
      "outputs": [],
      "source": [
        "# H0: two cdfs are same\n",
        "# Ha: two cdfs are different\n",
        "kstest(df_won[\"runs\"], df_lost[\"runs\"])"
      ]
    },
    {
      "cell_type": "code",
      "execution_count": null,
      "id": "ec270423",
      "metadata": {
        "hidden": true,
        "id": "ec270423"
      },
      "outputs": [],
      "source": [
        "#p-value is small, so we go with the alternate"
      ]
    },
    {
      "cell_type": "markdown",
      "id": "6a2a7dd2",
      "metadata": {
        "heading_collapsed": true,
        "hidden": true,
        "id": "6a2a7dd2"
      },
      "source": [
        "## Century Vs no century"
      ]
    },
    {
      "cell_type": "code",
      "execution_count": null,
      "id": "47a1a7b5",
      "metadata": {
        "hidden": true,
        "id": "47a1a7b5"
      },
      "outputs": [],
      "source": [
        "df.groupby([\"century\"])[\"runs\"].mean()"
      ]
    },
    {
      "cell_type": "code",
      "execution_count": null,
      "id": "2b5219b8",
      "metadata": {
        "hidden": true,
        "id": "2b5219b8"
      },
      "outputs": [],
      "source": [
        "df_century = df[df[\"century\"]==True]\n",
        "df_no_century = df[df[\"century\"]==False]"
      ]
    },
    {
      "cell_type": "code",
      "execution_count": null,
      "id": "e9fa89ee",
      "metadata": {
        "hidden": true,
        "id": "e9fa89ee"
      },
      "outputs": [],
      "source": [
        "ttest_ind(df_century[\"runs\"], df_no_century[\"runs\"])"
      ]
    },
    {
      "cell_type": "code",
      "execution_count": null,
      "id": "7e9993b0",
      "metadata": {
        "hidden": true,
        "id": "7e9993b0"
      },
      "outputs": [],
      "source": [
        "e1 = ECDF(df_century[\"runs\"])\n",
        "e2 = ECDF(df_no_century[\"runs\"])"
      ]
    },
    {
      "cell_type": "code",
      "execution_count": null,
      "id": "802b22d4",
      "metadata": {
        "hidden": true,
        "id": "802b22d4"
      },
      "outputs": [],
      "source": [
        "plt.plot(e1.x, e1.y)\n",
        "plt.plot(e2.x, e2.y)"
      ]
    },
    {
      "cell_type": "code",
      "execution_count": null,
      "id": "3c0060ce",
      "metadata": {
        "hidden": true,
        "id": "3c0060ce"
      },
      "outputs": [],
      "source": [
        "kstest(df_century[\"runs\"], df_no_century[\"runs\"])"
      ]
    },
    {
      "cell_type": "markdown",
      "id": "a04e7b01",
      "metadata": {
        "hidden": true,
        "id": "a04e7b01"
      },
      "source": [
        "## Out of form"
      ]
    },
    {
      "cell_type": "code",
      "execution_count": null,
      "id": "6ae54d43",
      "metadata": {
        "hidden": true,
        "id": "6ae54d43"
      },
      "outputs": [],
      "source": [
        "df.head()"
      ]
    },
    {
      "cell_type": "code",
      "execution_count": null,
      "id": "9e68ab74",
      "metadata": {
        "hidden": true,
        "id": "9e68ab74"
      },
      "outputs": [],
      "source": [
        "df[\"year\"] = pd.DatetimeIndex(df['Date']).year"
      ]
    },
    {
      "cell_type": "code",
      "execution_count": null,
      "id": "d5b105d2",
      "metadata": {
        "hidden": true,
        "id": "d5b105d2"
      },
      "outputs": [],
      "source": [
        "df.head()"
      ]
    },
    {
      "cell_type": "code",
      "execution_count": null,
      "id": "636b87bb",
      "metadata": {
        "hidden": true,
        "id": "636b87bb"
      },
      "outputs": [],
      "source": [
        "df[\"runs\"].mean()"
      ]
    },
    {
      "cell_type": "code",
      "execution_count": null,
      "id": "4661963f",
      "metadata": {
        "hidden": true,
        "id": "4661963f"
      },
      "outputs": [],
      "source": [
        "df.groupby([\"year\"]).agg({\"runs\":[np.mean, \"count\"]})"
      ]
    },
    {
      "cell_type": "code",
      "execution_count": null,
      "id": "28449276",
      "metadata": {
        "hidden": true,
        "id": "28449276"
      },
      "outputs": [],
      "source": [
        "# Out of form\n",
        "for year in df[\"year\"].unique():\n",
        "    df_year = df[df[\"year\"]==year]\n",
        "    df_other_years = df[df[\"year\"]!=year]\n",
        "    t_stat, p_value = ttest_ind(df_year[\"runs\"], df_other_years[\"runs\"], alternative=\"less\")\n",
        "    if p_value < 0.05:\n",
        "        print(\"Sachin was out of form in \", year)"
      ]
    },
    {
      "cell_type": "code",
      "execution_count": null,
      "id": "0525c17d",
      "metadata": {
        "hidden": true,
        "id": "0525c17d"
      },
      "outputs": [],
      "source": [
        "# Best years\n",
        "for year in df[\"year\"].unique():\n",
        "    df_year = df[df[\"year\"]==year]\n",
        "    df_other_years = df[df[\"year\"]!=year]\n",
        "    t_stat, p_value = ttest_ind(df_year[\"runs\"], df_other_years[\"runs\"], alternative=\"greater\")\n",
        "    if p_value < 0.05:\n",
        "        print(\"Sachin was in best form in \", year)"
      ]
    },
    {
      "cell_type": "markdown",
      "id": "b72613a0",
      "metadata": {
        "hidden": true,
        "id": "b72613a0"
      },
      "source": [
        "## Century Vs win"
      ]
    },
    {
      "cell_type": "code",
      "execution_count": null,
      "id": "71e2edc8",
      "metadata": {
        "hidden": true,
        "id": "71e2edc8"
      },
      "outputs": [],
      "source": [
        "df_won_and_century = pd.crosstab(df[\"Won\"], df[\"century\"])\n",
        "df_won_and_century"
      ]
    },
    {
      "cell_type": "code",
      "execution_count": null,
      "id": "337ad4d9",
      "metadata": {
        "hidden": true,
        "id": "337ad4d9"
      },
      "outputs": [],
      "source": [
        "chi2_contingency(df_won_and_century)"
      ]
    },
    {
      "cell_type": "code",
      "execution_count": null,
      "id": "517c6fc8",
      "metadata": {
        "hidden": true,
        "id": "517c6fc8"
      },
      "outputs": [],
      "source": [
        "# At 95% confidence, it is not statistically significant\n",
        "# At 90% confidence, it is statistically significant"
      ]
    },
    {
      "cell_type": "markdown",
      "id": "387ebd42",
      "metadata": {
        "hidden": true,
        "id": "387ebd42"
      },
      "source": [
        "## Correlations"
      ]
    },
    {
      "cell_type": "code",
      "execution_count": null,
      "id": "466cbec1",
      "metadata": {
        "hidden": true,
        "id": "466cbec1",
        "colab": {
          "base_uri": "https://localhost:8080/",
          "height": 206
        },
        "outputId": "b98264ca-6401-484f-feaf-925401a06fd4"
      },
      "outputs": [
        {
          "output_type": "execute_result",
          "data": {
            "text/plain": [
              "   runs  NotOut mins  bf  fours  sixes      sr  Inns           Opp    Ground  \\\n",
              "0    13       0   30  15      3      0   86.66     1   New Zealand    Napier   \n",
              "1    37       0   75  51      3      1   72.54     2  South Africa  Hamilton   \n",
              "2    47       0   65  40      7      0  117.50     2     Australia   Dunedin   \n",
              "3    48       0   37  30      9      1  160.00     2    Bangladesh   Sharjah   \n",
              "4     4       0   13   9      1      0   44.44     2      Pakistan   Sharjah   \n",
              "\n",
              "         Date        Winner Century  Won  \n",
              "0  1995-02-16   New Zealand      No   No  \n",
              "1  1995-02-18  South Africa      No   No  \n",
              "2  1995-02-22         India      No  Yes  \n",
              "3  1995-04-05         India      No  Yes  \n",
              "4  1995-04-07      Pakistan      No   No  "
            ],
            "text/html": [
              "\n",
              "  <div id=\"df-bbfb347f-c7c8-478a-999e-25022d2b856d\">\n",
              "    <div class=\"colab-df-container\">\n",
              "      <div>\n",
              "<style scoped>\n",
              "    .dataframe tbody tr th:only-of-type {\n",
              "        vertical-align: middle;\n",
              "    }\n",
              "\n",
              "    .dataframe tbody tr th {\n",
              "        vertical-align: top;\n",
              "    }\n",
              "\n",
              "    .dataframe thead th {\n",
              "        text-align: right;\n",
              "    }\n",
              "</style>\n",
              "<table border=\"1\" class=\"dataframe\">\n",
              "  <thead>\n",
              "    <tr style=\"text-align: right;\">\n",
              "      <th></th>\n",
              "      <th>runs</th>\n",
              "      <th>NotOut</th>\n",
              "      <th>mins</th>\n",
              "      <th>bf</th>\n",
              "      <th>fours</th>\n",
              "      <th>sixes</th>\n",
              "      <th>sr</th>\n",
              "      <th>Inns</th>\n",
              "      <th>Opp</th>\n",
              "      <th>Ground</th>\n",
              "      <th>Date</th>\n",
              "      <th>Winner</th>\n",
              "      <th>Century</th>\n",
              "      <th>Won</th>\n",
              "    </tr>\n",
              "  </thead>\n",
              "  <tbody>\n",
              "    <tr>\n",
              "      <th>0</th>\n",
              "      <td>13</td>\n",
              "      <td>0</td>\n",
              "      <td>30</td>\n",
              "      <td>15</td>\n",
              "      <td>3</td>\n",
              "      <td>0</td>\n",
              "      <td>86.66</td>\n",
              "      <td>1</td>\n",
              "      <td>New Zealand</td>\n",
              "      <td>Napier</td>\n",
              "      <td>1995-02-16</td>\n",
              "      <td>New Zealand</td>\n",
              "      <td>No</td>\n",
              "      <td>No</td>\n",
              "    </tr>\n",
              "    <tr>\n",
              "      <th>1</th>\n",
              "      <td>37</td>\n",
              "      <td>0</td>\n",
              "      <td>75</td>\n",
              "      <td>51</td>\n",
              "      <td>3</td>\n",
              "      <td>1</td>\n",
              "      <td>72.54</td>\n",
              "      <td>2</td>\n",
              "      <td>South Africa</td>\n",
              "      <td>Hamilton</td>\n",
              "      <td>1995-02-18</td>\n",
              "      <td>South Africa</td>\n",
              "      <td>No</td>\n",
              "      <td>No</td>\n",
              "    </tr>\n",
              "    <tr>\n",
              "      <th>2</th>\n",
              "      <td>47</td>\n",
              "      <td>0</td>\n",
              "      <td>65</td>\n",
              "      <td>40</td>\n",
              "      <td>7</td>\n",
              "      <td>0</td>\n",
              "      <td>117.50</td>\n",
              "      <td>2</td>\n",
              "      <td>Australia</td>\n",
              "      <td>Dunedin</td>\n",
              "      <td>1995-02-22</td>\n",
              "      <td>India</td>\n",
              "      <td>No</td>\n",
              "      <td>Yes</td>\n",
              "    </tr>\n",
              "    <tr>\n",
              "      <th>3</th>\n",
              "      <td>48</td>\n",
              "      <td>0</td>\n",
              "      <td>37</td>\n",
              "      <td>30</td>\n",
              "      <td>9</td>\n",
              "      <td>1</td>\n",
              "      <td>160.00</td>\n",
              "      <td>2</td>\n",
              "      <td>Bangladesh</td>\n",
              "      <td>Sharjah</td>\n",
              "      <td>1995-04-05</td>\n",
              "      <td>India</td>\n",
              "      <td>No</td>\n",
              "      <td>Yes</td>\n",
              "    </tr>\n",
              "    <tr>\n",
              "      <th>4</th>\n",
              "      <td>4</td>\n",
              "      <td>0</td>\n",
              "      <td>13</td>\n",
              "      <td>9</td>\n",
              "      <td>1</td>\n",
              "      <td>0</td>\n",
              "      <td>44.44</td>\n",
              "      <td>2</td>\n",
              "      <td>Pakistan</td>\n",
              "      <td>Sharjah</td>\n",
              "      <td>1995-04-07</td>\n",
              "      <td>Pakistan</td>\n",
              "      <td>No</td>\n",
              "      <td>No</td>\n",
              "    </tr>\n",
              "  </tbody>\n",
              "</table>\n",
              "</div>\n",
              "      <button class=\"colab-df-convert\" onclick=\"convertToInteractive('df-bbfb347f-c7c8-478a-999e-25022d2b856d')\"\n",
              "              title=\"Convert this dataframe to an interactive table.\"\n",
              "              style=\"display:none;\">\n",
              "        \n",
              "  <svg xmlns=\"http://www.w3.org/2000/svg\" height=\"24px\"viewBox=\"0 0 24 24\"\n",
              "       width=\"24px\">\n",
              "    <path d=\"M0 0h24v24H0V0z\" fill=\"none\"/>\n",
              "    <path d=\"M18.56 5.44l.94 2.06.94-2.06 2.06-.94-2.06-.94-.94-2.06-.94 2.06-2.06.94zm-11 1L8.5 8.5l.94-2.06 2.06-.94-2.06-.94L8.5 2.5l-.94 2.06-2.06.94zm10 10l.94 2.06.94-2.06 2.06-.94-2.06-.94-.94-2.06-.94 2.06-2.06.94z\"/><path d=\"M17.41 7.96l-1.37-1.37c-.4-.4-.92-.59-1.43-.59-.52 0-1.04.2-1.43.59L10.3 9.45l-7.72 7.72c-.78.78-.78 2.05 0 2.83L4 21.41c.39.39.9.59 1.41.59.51 0 1.02-.2 1.41-.59l7.78-7.78 2.81-2.81c.8-.78.8-2.07 0-2.86zM5.41 20L4 18.59l7.72-7.72 1.47 1.35L5.41 20z\"/>\n",
              "  </svg>\n",
              "      </button>\n",
              "      \n",
              "  <style>\n",
              "    .colab-df-container {\n",
              "      display:flex;\n",
              "      flex-wrap:wrap;\n",
              "      gap: 12px;\n",
              "    }\n",
              "\n",
              "    .colab-df-convert {\n",
              "      background-color: #E8F0FE;\n",
              "      border: none;\n",
              "      border-radius: 50%;\n",
              "      cursor: pointer;\n",
              "      display: none;\n",
              "      fill: #1967D2;\n",
              "      height: 32px;\n",
              "      padding: 0 0 0 0;\n",
              "      width: 32px;\n",
              "    }\n",
              "\n",
              "    .colab-df-convert:hover {\n",
              "      background-color: #E2EBFA;\n",
              "      box-shadow: 0px 1px 2px rgba(60, 64, 67, 0.3), 0px 1px 3px 1px rgba(60, 64, 67, 0.15);\n",
              "      fill: #174EA6;\n",
              "    }\n",
              "\n",
              "    [theme=dark] .colab-df-convert {\n",
              "      background-color: #3B4455;\n",
              "      fill: #D2E3FC;\n",
              "    }\n",
              "\n",
              "    [theme=dark] .colab-df-convert:hover {\n",
              "      background-color: #434B5C;\n",
              "      box-shadow: 0px 1px 3px 1px rgba(0, 0, 0, 0.15);\n",
              "      filter: drop-shadow(0px 1px 2px rgba(0, 0, 0, 0.3));\n",
              "      fill: #FFFFFF;\n",
              "    }\n",
              "  </style>\n",
              "\n",
              "      <script>\n",
              "        const buttonEl =\n",
              "          document.querySelector('#df-bbfb347f-c7c8-478a-999e-25022d2b856d button.colab-df-convert');\n",
              "        buttonEl.style.display =\n",
              "          google.colab.kernel.accessAllowed ? 'block' : 'none';\n",
              "\n",
              "        async function convertToInteractive(key) {\n",
              "          const element = document.querySelector('#df-bbfb347f-c7c8-478a-999e-25022d2b856d');\n",
              "          const dataTable =\n",
              "            await google.colab.kernel.invokeFunction('convertToInteractive',\n",
              "                                                     [key], {});\n",
              "          if (!dataTable) return;\n",
              "\n",
              "          const docLinkHtml = 'Like what you see? Visit the ' +\n",
              "            '<a target=\"_blank\" href=https://colab.research.google.com/notebooks/data_table.ipynb>data table notebook</a>'\n",
              "            + ' to learn more about interactive tables.';\n",
              "          element.innerHTML = '';\n",
              "          dataTable['output_type'] = 'display_data';\n",
              "          await google.colab.output.renderOutput(dataTable, element);\n",
              "          const docLink = document.createElement('div');\n",
              "          docLink.innerHTML = docLinkHtml;\n",
              "          element.appendChild(docLink);\n",
              "        }\n",
              "      </script>\n",
              "    </div>\n",
              "  </div>\n",
              "  "
            ]
          },
          "metadata": {},
          "execution_count": 12
        }
      ],
      "source": [
        "df.head()"
      ]
    },
    {
      "cell_type": "code",
      "execution_count": null,
      "id": "4e933f9f",
      "metadata": {
        "hidden": true,
        "id": "4e933f9f"
      },
      "outputs": [],
      "source": [
        "numeric_colums = [\"runs\", \"bf\", \"fours\", \"sixes\", \"sr\", \"year\"]"
      ]
    },
    {
      "cell_type": "code",
      "execution_count": null,
      "id": "aacbbe20",
      "metadata": {
        "hidden": true,
        "id": "aacbbe20"
      },
      "outputs": [],
      "source": [
        "df_numeric = df[numeric_colums]"
      ]
    },
    {
      "cell_type": "code",
      "execution_count": null,
      "id": "d367121c",
      "metadata": {
        "hidden": true,
        "id": "d367121c"
      },
      "outputs": [],
      "source": [
        "plt.figure(figsize=(12, 12))\n",
        "sns.heatmap(df_numeric.corr(method='pearson'), square=True, annot=True, cmap=\"Blues\")"
      ]
    },
    {
      "cell_type": "code",
      "execution_count": null,
      "id": "f1b97e80",
      "metadata": {
        "hidden": true,
        "id": "f1b97e80",
        "colab": {
          "base_uri": "https://localhost:8080/",
          "height": 301
        },
        "outputId": "eaf3e91f-3fb9-4db5-b4d8-f87771854740"
      },
      "outputs": [
        {
          "output_type": "stream",
          "name": "stdout",
          "text": [
            "1.2046739457229747e-188\n",
            "Reject null hypothesis\n"
          ]
        },
        {
          "output_type": "display_data",
          "data": {
            "text/plain": [
              "<Figure size 432x288 with 1 Axes>"
            ],
            "image/png": "[encoded data removed]"
          },
          "metadata": {
            "needs_background": "light"
          }
        }
      ],
      "source": [
        "x = df[\"bf\"]\n",
        "y = df[\"runs\"]\n",
        "plt.scatter(x, y)\n",
        "plt.axvline(x.mean())\n",
        "plt.axhline(y.mean())\n",
        "# H0: x and y are uncorrelated\n",
        "corr_stat, p_value = pearsonr(x, y)\n",
        "print(p_value)\n",
        "if p_value < 0.05:\n",
        "    print(\"Reject null hypothesis\")\n",
        "else:\n",
        "    print(\"Uncorrelated\")"
      ]
    },
    {
      "cell_type": "code",
      "execution_count": null,
      "id": "1203ebbb",
      "metadata": {
        "hidden": true,
        "id": "1203ebbb",
        "colab": {
          "base_uri": "https://localhost:8080/",
          "height": 301
        },
        "outputId": "43f5d8e1-488f-4139-c2e7-d7896714d76f"
      },
      "outputs": [
        {
          "output_type": "stream",
          "name": "stdout",
          "text": [
            "0.9630157348326716\n",
            "Uncorrelated\n"
          ]
        },
        {
          "output_type": "display_data",
          "data": {
            "text/plain": [
              "<Figure size 432x288 with 1 Axes>"
            ],
            "image/png": "[encoded data removed]"
          },
          "metadata": {
            "needs_background": "light"
          }
        }
      ],
      "source": [
        "x = df[\"year\"]\n",
        "y = df[\"runs\"]\n",
        "plt.scatter(x, y)\n",
        "plt.axvline(x.mean())\n",
        "plt.axhline(y.mean())\n",
        "# H0: x and y are uncorrelated\n",
        "corr_stat, p_value = pearsonr(x, y)\n",
        "print(p_value)\n",
        "if p_value < 0.05:\n",
        "    print(\"Reject null hypothesis\")\n",
        "else:\n",
        "    print(\"Uncorrelated\")"
      ]
    },
    {
      "cell_type": "code",
      "execution_count": null,
      "id": "17576a80",
      "metadata": {
        "hidden": true,
        "id": "17576a80"
      },
      "outputs": [],
      "source": [
        "sns.pairplot(df_numeric)"
      ]
    },
    {
      "cell_type": "markdown",
      "id": "935a6377",
      "metadata": {
        "heading_collapsed": true,
        "id": "935a6377"
      },
      "source": [
        "# Youtube 2-ads example (t-test)"
      ]
    },
    {
      "cell_type": "code",
      "execution_count": null,
      "id": "874157d2",
      "metadata": {
        "hidden": true,
        "id": "874157d2"
      },
      "outputs": [],
      "source": [
        "youtube_data = pd.read_csv(\"youtube.csv\")\n",
        "youtube_data.sample(100)"
      ]
    },
    {
      "cell_type": "code",
      "execution_count": null,
      "id": "6cb061c4",
      "metadata": {
        "hidden": true,
        "id": "6cb061c4"
      },
      "outputs": [],
      "source": [
        "youtube_data.shape"
      ]
    },
    {
      "cell_type": "code",
      "execution_count": null,
      "id": "590a5ef8",
      "metadata": {
        "hidden": true,
        "id": "590a5ef8"
      },
      "outputs": [],
      "source": [
        "youtube_data['customer_segmnt'].value_counts()"
      ]
    },
    {
      "cell_type": "code",
      "execution_count": null,
      "id": "ef86e030",
      "metadata": {
        "hidden": true,
        "id": "ef86e030"
      },
      "outputs": [],
      "source": [
        "youtube_data.describe()"
      ]
    },
    {
      "cell_type": "code",
      "execution_count": null,
      "id": "3def928d",
      "metadata": {
        "hidden": true,
        "id": "3def928d"
      },
      "outputs": [],
      "source": [
        "youtube_data[\"watch_time_hrs\"].quantile(0.998)"
      ]
    },
    {
      "cell_type": "code",
      "execution_count": null,
      "id": "29a692c5",
      "metadata": {
        "hidden": true,
        "id": "29a692c5"
      },
      "outputs": [],
      "source": [
        "# Outlier\n",
        "q998 = youtube_data[\"watch_time_hrs\"].quantile(0.998)\n",
        "youtube_data_no_out = youtube_data[youtube_data[\"watch_time_hrs\"] < q998]"
      ]
    },
    {
      "cell_type": "code",
      "execution_count": null,
      "id": "8d85db88",
      "metadata": {
        "hidden": true,
        "id": "8d85db88"
      },
      "outputs": [],
      "source": [
        "youtube_data_no_out.shape"
      ]
    },
    {
      "cell_type": "code",
      "execution_count": null,
      "id": "ee852eef",
      "metadata": {
        "hidden": true,
        "id": "ee852eef"
      },
      "outputs": [],
      "source": [
        "youtube_data_no_out.describe()"
      ]
    },
    {
      "cell_type": "code",
      "execution_count": null,
      "id": "2c646773",
      "metadata": {
        "hidden": true,
        "id": "2c646773"
      },
      "outputs": [],
      "source": [
        "sns.histplot(youtube_data_no_out['watch_time_hrs'], bins=100)\n",
        "plt.show()"
      ]
    },
    {
      "cell_type": "code",
      "execution_count": null,
      "id": "21748432",
      "metadata": {
        "hidden": true,
        "id": "21748432"
      },
      "outputs": [],
      "source": [
        "control_data = youtube_data_no_out[youtube_data_no_out[\"customer_segmnt\"] == \"control\"]\n",
        "treatment_data = youtube_data_no_out[youtube_data_no_out[\"customer_segmnt\"] == \"treatment\"]"
      ]
    },
    {
      "cell_type": "code",
      "execution_count": null,
      "id": "7be676cd",
      "metadata": {
        "hidden": true,
        "id": "7be676cd"
      },
      "outputs": [],
      "source": [
        "control_data.shape"
      ]
    },
    {
      "cell_type": "code",
      "execution_count": null,
      "id": "79e94bc8",
      "metadata": {
        "hidden": true,
        "id": "79e94bc8"
      },
      "outputs": [],
      "source": [
        "treatment_data.shape"
      ]
    },
    {
      "cell_type": "code",
      "execution_count": null,
      "id": "d92c2fab",
      "metadata": {
        "hidden": true,
        "id": "d92c2fab"
      },
      "outputs": [],
      "source": [
        "control_data[\"watch_time_hrs\"].mean()"
      ]
    },
    {
      "cell_type": "code",
      "execution_count": null,
      "id": "01573a73",
      "metadata": {
        "hidden": true,
        "id": "01573a73"
      },
      "outputs": [],
      "source": [
        "treatment_data[\"watch_time_hrs\"].mean()"
      ]
    },
    {
      "cell_type": "code",
      "execution_count": null,
      "id": "e41aa1e8",
      "metadata": {
        "hidden": true,
        "id": "e41aa1e8"
      },
      "outputs": [],
      "source": [
        "ttest_ind(control_data[\"watch_time_hrs\"], treatment_data[\"watch_time_hrs\"])"
      ]
    },
    {
      "cell_type": "code",
      "execution_count": null,
      "id": "5fe146c3",
      "metadata": {
        "hidden": true,
        "id": "5fe146c3"
      },
      "outputs": [],
      "source": [
        "#1\n",
        "ttest_ind(control_data[\"watch_time_hrs\"], treatment_data[\"watch_time_hrs\"], alternative=\"greater\")"
      ]
    },
    {
      "cell_type": "code",
      "execution_count": null,
      "id": "a5467e59",
      "metadata": {
        "hidden": true,
        "id": "a5467e59"
      },
      "outputs": [],
      "source": [
        "#2\n",
        "ttest_ind(control_data[\"watch_time_hrs\"], treatment_data[\"watch_time_hrs\"], alternative=\"less\")"
      ]
    },
    {
      "cell_type": "markdown",
      "source": [
        "# Will Problem solving improve marks? (t-test)"
      ],
      "metadata": {
        "id": "68974c88"
      },
      "id": "68974c88"
    },
    {
      "cell_type": "code",
      "execution_count": null,
      "id": "cf03bb54",
      "metadata": {
        "id": "cf03bb54"
      },
      "outputs": [],
      "source": [
        "df_ps = pd.read_csv(\"problem_solving.csv\")\n",
        "# test1 was before the session, test2 was after"
      ]
    },
    {
      "cell_type": "code",
      "execution_count": null,
      "id": "74145b5a",
      "metadata": {
        "id": "74145b5a"
      },
      "outputs": [],
      "source": [
        "df_ps"
      ]
    },
    {
      "cell_type": "code",
      "execution_count": null,
      "id": "c3e9134b",
      "metadata": {
        "id": "c3e9134b"
      },
      "outputs": [],
      "source": [
        "df_ps.describe()"
      ]
    },
    {
      "cell_type": "code",
      "execution_count": null,
      "id": "0fefa355",
      "metadata": {
        "id": "0fefa355"
      },
      "outputs": [],
      "source": [
        "# paired t-test\n",
        "# H0: no difference \n",
        "\n",
        "# Ha: 2-sided, \n",
        "# left-tailed, \n",
        "# right-tailed"
      ]
    },
    {
      "cell_type": "code",
      "execution_count": null,
      "id": "74416485",
      "metadata": {
        "id": "74416485"
      },
      "outputs": [],
      "source": []
    },
    {
      "cell_type": "code",
      "execution_count": null,
      "id": "e5f4ba65",
      "metadata": {
        "id": "e5f4ba65"
      },
      "outputs": [],
      "source": [
        "ttest_rel(df_ps[\"test_1\"], df_ps[\"test_2\"])"
      ]
    },
    {
      "cell_type": "code",
      "execution_count": null,
      "id": "d179fa0a",
      "metadata": {
        "id": "d179fa0a"
      },
      "outputs": [],
      "source": [
        "#1\n",
        "ttest_rel(df_ps[\"test_1\"], df_ps[\"test_2\"], alternative=\"greater\")"
      ]
    },
    {
      "cell_type": "code",
      "execution_count": null,
      "id": "5ae230f9",
      "metadata": {
        "id": "5ae230f9"
      },
      "outputs": [],
      "source": [
        "#2\n",
        "ttest_rel(df_ps[\"test_1\"], df_ps[\"test_2\"], alternative=\"less\")"
      ]
    },
    {
      "cell_type": "markdown",
      "source": [
        "# Visual samples"
      ],
      "metadata": {
        "id": "pQWAR-wDJbkd"
      },
      "id": "pQWAR-wDJbkd"
    },
    {
      "cell_type": "code",
      "source": [
        "import seaborn as sns\n",
        "df = sns.load_dataset('tips')\n",
        "\n",
        "Sample1=df[df['day']=='Thur']['tip'].tolist()\n",
        "Sample2=df[df['day']=='Fri']['tip'].tolist()\n",
        "Sample3=df[df['day']=='Sat']['tip'].tolist()\n",
        "Sample4=df[df['day']=='Sun']['tip'].tolist()\n",
        "Samples=[Sample1,Sample2,Sample3,Sample4]\n",
        "\n",
        "import scipy.stats as stats\n",
        "import seaborn as sns\n",
        "import matplotlib.pyplot as plt\n",
        "\n",
        "for i in range(len(Samples)):\n",
        "  plt.figure(figsize = [10,16])\n",
        "  for j in range (2):\n",
        "    if j==0:\n",
        "      plt.subplot(len(Samples), 2, 1)\n",
        "      stats.probplot(Samples[i], dist=\"norm\", plot=plt)\n",
        "    if j==1:\n",
        "      plt.subplot(len(Samples), 2, 2)\n",
        "      sns.boxplot(Samples[i],data=df)\n",
        "      plt.title('sample'+str(i+1))\n",
        "plt.show()"
      ],
      "metadata": {
        "colab": {
          "base_uri": "https://localhost:8080/",
          "height": 1000
        },
        "id": "t0Ebouk_EpCz",
        "outputId": "6ee80f5e-b44a-43a9-992b-cab66222cc2a"
      },
      "id": "t0Ebouk_EpCz",
      "execution_count": null,
      "outputs": [
        {
          "output_type": "stream",
          "name": "stderr",
          "text": [
            "/usr/local/lib/python3.8/dist-packages/seaborn/_decorators.py:36: FutureWarning: Pass the following variable as a keyword arg: x. From version 0.12, the only valid positional argument will be `data`, and passing other arguments without an explicit keyword will result in an error or misinterpretation.\n",
            "  warnings.warn(\n",
            "/usr/local/lib/python3.8/dist-packages/seaborn/_decorators.py:36: FutureWarning: Pass the following variable as a keyword arg: x. From version 0.12, the only valid positional argument will be `data`, and passing other arguments without an explicit keyword will result in an error or misinterpretation.\n",
            "  warnings.warn(\n",
            "/usr/local/lib/python3.8/dist-packages/seaborn/_decorators.py:36: FutureWarning: Pass the following variable as a keyword arg: x. From version 0.12, the only valid positional argument will be `data`, and passing other arguments without an explicit keyword will result in an error or misinterpretation.\n",
            "  warnings.warn(\n",
            "/usr/local/lib/python3.8/dist-packages/seaborn/_decorators.py:36: FutureWarning: Pass the following variable as a keyword arg: x. From version 0.12, the only valid positional argument will be `data`, and passing other arguments without an explicit keyword will result in an error or misinterpretation.\n",
            "  warnings.warn(\n"
          ]
        },
        {
          "output_type": "display_data",
          "data": {
            "text/plain": [
              "<Figure size 720x1152 with 2 Axes>"
            ],
            "image/png": "[encoded data removed]"
          },
          "metadata": {
            "needs_background": "light"
          }
        },
        {
          "output_type": "display_data",
          "data": {
            "text/plain": [
              "<Figure size 720x1152 with 2 Axes>"
            ],
            "image/png": "[encoded data removed]"
          },
          "metadata": {
            "needs_background": "light"
          }
        },
        {
          "output_type": "display_data",
          "data": {
            "text/plain": [
              "<Figure size 720x1152 with 2 Axes>"
            ],
            "image/png": "[encoded data removed]"
          },
          "metadata": {
            "needs_background": "light"
          }
        },
        {
          "output_type": "display_data",
          "data": {
            "text/plain": [
              "<Figure size 720x1152 with 2 Axes>"
            ],
            "image/png": "[encoded data removed]"
          },
          "metadata": {
            "needs_background": "light"
          }
        }
      ]
    },
    {
      "cell_type": "code",
      "source": [
        "\n",
        "import matplotlib.pyplot as plt \n",
        "import scipy.stats as stats\n",
        "from scipy.stats import pearsonr, spearmanr # numeric vs numeric\n",
        "plt.scatter(x, y)\n",
        "plt.axvline(x.mean())\n",
        "plt.axhline(y.mean())\n",
        "H0 = 'Samples are not correlated'\n",
        "print('null hypothesis: ',H0)\n",
        "corr_stat, p_val = pearsonr(x, y)\n",
        "print(\"p-value is: \", p_val)\n",
        "if p_val <= alpha:  \n",
        "    print('We can reject the null hypothesis')  \n",
        "else:  \n",
        "    print('We can accept the null hypothesis')"
      ],
      "metadata": {
        "colab": {
          "base_uri": "https://localhost:8080/",
          "height": 319
        },
        "id": "-0ZNWv2z0_mX",
        "outputId": "7ff45ff8-c612-4f6b-fa13-923a4325ef1d"
      },
      "id": "-0ZNWv2z0_mX",
      "execution_count": null,
      "outputs": [
        {
          "output_type": "stream",
          "name": "stdout",
          "text": [
            "null hypothesis:  Samples are not correlated\n",
            "p-value is:  6.69247064686336e-34\n",
            "We can reject the null hypothesis\n"
          ]
        },
        {
          "output_type": "display_data",
          "data": {
            "text/plain": [
              "<Figure size 432x288 with 1 Axes>"
            ],
            "image/png": "[encoded data removed]"
          },
          "metadata": {
            "needs_background": "light"
          }
        }
      ]
    },
    {
      "cell_type": "code",
      "source": [
        "crosstab=[]\n",
        "import seaborn as sb\n",
        "# load data\n",
        "df = sb.load_dataset('tips')\n",
        "Sample1=df['tip']\n",
        "Sample2=df['size']\n",
        "Samples=[Sample1,Sample2]\n",
        "correlation=[Sample1,Sample2]\n",
        "mu = None\n",
        "alpha = 0.05 \n",
        "alternative = 'two-sided'  # 'less' , 'greater'\n",
        "Hypothesis_testing(Samples,alpha,alternative,mu,crosstab,correlation)"
      ],
      "metadata": {
        "colab": {
          "base_uri": "https://localhost:8080/",
          "height": 587
        },
        "id": "2VWZO1Su5o9r",
        "outputId": "d445d56f-2bd0-4495-bf85-63298bbfa015"
      },
      "id": "2VWZO1Su5o9r",
      "execution_count": null,
      "outputs": [
        {
          "output_type": "display_data",
          "data": {
            "text/plain": [
              "<Figure size 432x288 with 1 Axes>"
            ],
            "image/png": "[encoded data removed]"
          },
          "metadata": {
            "needs_background": "light"
          }
        },
        {
          "output_type": "stream",
          "name": "stdout",
          "text": [
            "Pearsonr test for linear relationship\n",
            "null hypothesis:  No liner correlation between variables\n",
            "corr_stat is:  0.4892987752303571\n",
            "p-value is:  4.300543327225161e-16\n",
            "We can reject the null hypothesis\n",
            "positive correlation between the two variables (corr_stat>0)\n",
            "strong correlation between the two variables (corr_stat>0.07)\n",
            "\n",
            "Spearmanr test for monotonic relationship\n",
            "null hypothesis:  No rank-based correlation between variables\n",
            "corr_stat is:  0.46826792926211475\n",
            "p-value is:  1.059850307726077e-14\n",
            "We can reject the null hypothesis\n",
            "positive correlation between the two variables (corr_stat>0)\n",
            "strong correlation between the two variables (corr_stat>0.07)\n",
            "\n",
            "\n"
          ]
        }
      ]
    },
    {
      "cell_type": "code",
      "source": [
        "\n",
        "# importing libraries\n",
        "import seaborn as sb\n",
        "  \n",
        "# load data\n",
        "df = sb.load_dataset('tips')\n",
        "Sample1=df['total_bill']\n",
        "Sample2=df['size']\n",
        "Samples=[Sample1,Sample2]\n",
        "correlation=[Sample1,Sample2]\n",
        "  \n",
        "# use regplot\n",
        "sb.regplot(correlation[0],correlation[1], lowess=True)  # for monotonic (spearman corr)\n",
        "sb.regplot(correlation[0],correlation[1])               # for linear (pearson corr)\n",
        "\n"
      ],
      "metadata": {
        "colab": {
          "base_uri": "https://localhost:8080/",
          "height": 298
        },
        "id": "YQ5Ktp04D4tL",
        "outputId": "26443fa3-3651-4927-cd00-ac4691d1eeef"
      },
      "id": "YQ5Ktp04D4tL",
      "execution_count": null,
      "outputs": [
        {
          "output_type": "execute_result",
          "data": {
            "text/plain": [
              "<AxesSubplot:xlabel='total_bill', ylabel='size'>"
            ]
          },
          "metadata": {},
          "execution_count": 102
        },
        {
          "output_type": "display_data",
          "data": {
            "text/plain": [
              "<Figure size 432x288 with 1 Axes>"
            ],
            "image/png": "[encoded data removed]"
          },
          "metadata": {
            "needs_background": "light"
          }
        }
      ]
    },
    {
      "cell_type": "code",
      "source": [
        "# importing libraries\n",
        "import seaborn as sb\n",
        "import matplotlib.pyplot as plt\n",
        "import warnings\n",
        "warnings.filterwarnings('ignore')\n",
        "# load data\n",
        "df = sb.load_dataset('tips')\n",
        "Sample1=df['total_bill']\n",
        "Sample2=df['size']\n",
        "Samples=[Sample1,Sample2]\n",
        "correlation=[Sample1,Sample2]\n",
        "  \n",
        "# use regplot\n",
        "\n",
        "reg=sb.jointplot(correlation[0],correlation[1],kind='reg')\n",
        "reg.fig.subplots_adjust(top=.9)\n",
        "reg.fig.suptitle('check outlier and distribution then regression')\n",
        "plt.show()\n"
      ],
      "metadata": {
        "colab": {
          "base_uri": "https://localhost:8080/",
          "height": 443
        },
        "id": "0MNRVilPqM82",
        "outputId": "946cd177-7ec9-4d57-d5be-c8749e1662b9"
      },
      "id": "0MNRVilPqM82",
      "execution_count": null,
      "outputs": [
        {
          "output_type": "display_data",
          "data": {
            "text/plain": [
              "<Figure size 432x432 with 3 Axes>"
            ],
            "image/png": "[encoded data removed]"
          },
          "metadata": {
            "needs_background": "light"
          }
        }
      ]
    }
  ],
  "metadata": {
    "kernelspec": {
      "display_name": "Python 3 (ipykernel)",
      "language": "python",
      "name": "python3"
    },
    "language_info": {
      "codemirror_mode": {
        "name": "ipython",
        "version": 3
      },
      "file_extension": ".py",
      "mimetype": "text/x-python",
      "name": "python",
      "nbconvert_exporter": "python",
      "pygments_lexer": "ipython3",
      "version": "3.9.12"
    },
    "colab": {
      "provenance": [],
      "collapsed_sections": [
        "oBJ9Zm2gZ7-y",
        "901a2b11",
        "ab1b7cae",
        "2fRZrgWvyLOs",
        "50db4208",
        "d9d5ebb8",
        "ILjhBJuEQ4po",
        "kDf_Wj83J2O1",
        "36b56353",
        "59dc18e9",
        "cd22a5e2",
        "5f75f6d4",
        "0220616d",
        "6a2a7dd2",
        "a04e7b01",
        "b72613a0",
        "387ebd42",
        "935a6377"
      ],
      "include_colab_link": true
    }
  },
  "nbformat": 4,
  "nbformat_minor": 5
}